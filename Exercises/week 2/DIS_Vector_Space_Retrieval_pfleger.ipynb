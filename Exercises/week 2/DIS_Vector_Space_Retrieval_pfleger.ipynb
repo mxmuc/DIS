{
 "cells": [
  {
   "cell_type": "markdown",
   "metadata": {},
   "source": [
    "## Exercise 1\n",
    "\n",
    "In this exercise we will understand the functioning of TF/IDF ranking. \n",
    "\n",
    "Implement the vector space retrieval model, based on the code framework provided below.\n",
    "\n",
    "For testing we have provided a simple document collection with 5 documents in file bread.txt:\n",
    "\n",
    "  DocID | Document Text\n",
    "  ------|------------------\n",
    "  1     | How to Bake Breads Without Baking Recipes\n",
    "  2     | Smith Pies: Best Pies in London\n",
    "  3     | Numerical Recipes: The Art of Scientific Computing\n",
    "  4     | Breads, Pastries, Pies, and Cakes: Quantity Baking Recipes\n",
    "  5     | Pastry: A Book of Best French Pastry Recipes\n",
    "\n",
    "Now, for the query $Q = ``baking''$, find the top ranked documents according to the TF/IDF rank.\n",
    "\n",
    "For further testing, use the collection __epfldocs.txt__, which contains recent tweets mentioning EPFL.\n",
    "\n",
    "Compare the results also to the results obtained from the reference implementation using the scikit-learn library."
   ]
  },
  {
   "cell_type": "code",
   "execution_count": 1,
   "metadata": {},
   "outputs": [
    {
     "name": "stderr",
     "output_type": "stream",
     "text": [
      "[nltk_data] Downloading package stopwords to\n",
      "[nltk_data]     /Users/maxpfl/nltk_data...\n",
      "[nltk_data]   Package stopwords is already up-to-date!\n",
      "[nltk_data] Downloading package punkt to /Users/maxpfl/nltk_data...\n",
      "[nltk_data]   Package punkt is already up-to-date!\n"
     ]
    }
   ],
   "source": [
    "# Loading of libraries and documents\n",
    "\n",
    "from nltk.stem import PorterStemmer, WordNetLemmatizer\n",
    "import nltk\n",
    "from sklearn.feature_extraction.text import CountVectorizer, TfidfVectorizer\n",
    "from sklearn.metrics.pairwise import linear_kernel\n",
    "import string\n",
    "from nltk.corpus import stopwords\n",
    "import math\n",
    "from collections import Counter\n",
    "from operator import itemgetter\n",
    "nltk.download('stopwords')\n",
    "nltk.download('punkt')\n",
    "\n",
    "# Tokenize, stem a document\n",
    "stemmer = PorterStemmer()\n",
    "def tokenize(text):\n",
    "    text = \"\".join([ch for ch in text if ch not in string.punctuation])\n",
    "    tokens = nltk.word_tokenize(text)\n",
    "    return \" \".join([stemmer.stem(word.lower()) for word in tokens if word not in stopwords.words('english')])\n",
    "\n",
    "# Read a list of documents from a file. Each line in a file is a document\n",
    "with open(\"epfldocs.txt\") as f:\n",
    "    content = f.readlines()\n",
    "original_documents = [x.strip() for x in content] \n",
    "documents = [tokenize(d).split() for d in original_documents]"
   ]
  },
  {
   "cell_type": "code",
   "execution_count": 2,
   "metadata": {},
   "outputs": [],
   "source": [
    "# create the vocabulary\n",
    "vocabulary = list(set([item for sublist in documents for item in sublist]))\n",
    "vocabulary.sort()\n",
    "\n",
    "# compute IDF, storing idf values in a dictionary\n",
    "def idf_values(vocabulary, documents):\n",
    "    idf = {}\n",
    "    num_documents = len(documents)\n",
    "    for i, term in enumerate(vocabulary):\n",
    "        idf[term] = math.log(num_documents/sum(term in document for document in documents), math.e)\n",
    "    return idf\n",
    "\n",
    "# Function to generate the vector for a document (with normalisation)\n",
    "def vectorize(document, vocabulary, idf):\n",
    "    vector = [0]*len(vocabulary)\n",
    "    counts = Counter(document)\n",
    "    max_count = counts.most_common(1)[0][1]\n",
    "    for i,term in enumerate(vocabulary):\n",
    "        vector[i] = idf[term] * counts[term]/max_count\n",
    "    return vector\n",
    "\n",
    "# Compute IDF values and vectors\n",
    "idf = idf_values(vocabulary, documents)\n",
    "document_vectors = [vectorize(s, vocabulary, idf) for s in documents]\n",
    "\n",
    "# Function to compute cosine similarity\n",
    "def cosine_similarity(v1,v2):\n",
    "    sumxx, sumxy, sumyy = 0, 0, 0\n",
    "    for i in range(len(v1)):\n",
    "        x = v1[i]; y = v2[i]\n",
    "        sumxx += x*x\n",
    "        sumyy += y*y\n",
    "        sumxy += x*y\n",
    "    if sumxy == 0:\n",
    "            result = 0\n",
    "    else:\n",
    "            result = sumxy/math.sqrt(sumxx*sumyy)\n",
    "    return result\n",
    "\n",
    "# computing the search result\n",
    "def search_vec(query, topk=10):\n",
    "    q = query.split()\n",
    "    q = [stemmer.stem(w) for w in q]\n",
    "    query_vector = vectorize(q, vocabulary, idf)\n",
    "    scores = [[cosine_similarity(query_vector, document_vectors[d]), d] for d in range(len(documents))]\n",
    "    scores.sort(key=lambda x: -x[0])\n",
    "    doc_ids = []\n",
    "    for i in range(topk):\n",
    "        doc_ids.append(scores[i][1])\n",
    "    return doc_ids\n",
    "# HINTS\n",
    "\n",
    "# natural logarithm function\n",
    "#     math.log(n,math.e)\n",
    "# Function to count term frequencies in a document\n",
    "#     Counter(document)\n",
    "# most common elements for a list\n",
    "#     counts.most_common(1)"
   ]
  },
  {
   "cell_type": "code",
   "execution_count": 22,
   "metadata": {},
   "outputs": [
    {
     "name": "stdout",
     "output_type": "stream",
     "text": [
      "Congrats to @ETH_en (5th place) and @EPFL_en (10th place)! https://t.co/8RLp0zZhyb\n",
      "If that's not a standing ovation at @EPFL_en ... 🏆🙃😜👾🚀🎉 https://t.co/23kjIG8Pxt\n",
      "Time for Open Farm's pitch #openfood #Opendata #EPFL https://t.co/7lKKao5780\n",
      "Good opportunity for @ETH_en  @EPFL_en  @EPFL_Park @uzh_news_en https://t.co/v3tOjTYjQD\n",
      "Exciting News: \"World University Rankings 2016-2017 by subject: computer science\" No1 @ETH &amp; @EPFL on No8. Congrats https://t.co/ARSlXZoShQ\n",
      "@EPFL  crypto-tokenize FREE ENERGY https://t.co/vH9qgLoqrr https://t.co/6uTnJ68pSC https://t.co/GTXLhI6LTE https://t.co/ZYenRAsEIr GET RICH\n",
      "Scientists discover hidden patterns of brain activity https://t.co/HBLRYtdMtT #epfl\n",
      "@EdacyHQ  With #EDACY Invest in yourself https://t.co/X2Y212DKUP\n",
      "Deadline 19.05.2017 - AGAINST BREAST CANCER I RESEARCH FUNDING https://t.co/l4mhQA7upb #epfl @againstbc\n",
      "Robots #transform #into #furniture #at #EPFL #November #KamiAhok https://t.co/jjpc1PuYUm\n"
     ]
    }
   ],
   "source": [
    "tf_doc_ids = search_vec('baking')\n",
    "for i, v in enumerate(tf_doc_ids):\n",
    "    print(original_documents[v])"
   ]
  },
  {
   "cell_type": "code",
   "execution_count": 20,
   "metadata": {},
   "outputs": [
    {
     "name": "stdout",
     "output_type": "stream",
     "text": [
      "@Repub_News @EPFL_en you are in Russian media =)\n",
      "Human genomics of infection and immunity, working closely with engineering and clinical colleagues @EPFL @CHUVLausanne. Please get in touch!\n",
      "L'app pour «liker» en direct les transports publics https://t.co/3HbkTnIE3Q #epfl\n",
      "Dr. Julien Faget from @epflSV @EPFL_en will talk about flow cytometry unsupervised analyses: from immune signature to functional biology https://t.co/tAQF8VOLQS\n",
      "The Swiss Team has won the Solar Decathlon competition  via @EPFL_en / Congrats! @Swiss_Living #VDtech https://t.co/dY437yk4su\n"
     ]
    }
   ],
   "source": [
    "# Reference code using scikit-learn\n",
    "tf = TfidfVectorizer(analyzer='word', ngram_range=(1,1), min_df = 1, stop_words = 'english')\n",
    "features = tf.fit_transform(original_documents)\n",
    "npm_tfidf = features.todense()\n",
    "new_features = tf.transform(['baking'])\n",
    "\n",
    "cosine_similarities = linear_kernel(new_features, features).flatten()\n",
    "related_docs_indices = cosine_similarities.argsort()[::-1]\n",
    "topk = 5\n",
    "for i in range(topk):\n",
    "    print(original_documents[related_docs_indices[i]])"
   ]
  },
  {
   "cell_type": "markdown",
   "metadata": {},
   "source": [
    "\n",
    "## Exercise 2: Evaluate retrieval results\n",
    "\n",
    "In this exercise, we consider the scikit reference code as an “oracle” that supposedly gives the correct result. Your exercise is to compare the above tf-idf retrieval model with this oracle for the following queries \"computer science\", \"IC school\", \"information systems\" on the **epfldocs.txt** collection.\n",
    "\n",
    "For this exercise, you need to replace **bread.txt** in the first cell with **epfldocs.txt** and rerun all the cells from the begining. \n"
   ]
  },
  {
   "cell_type": "code",
   "execution_count": 4,
   "metadata": {},
   "outputs": [],
   "source": [
    "# Retrieval oracle \n",
    "tf = TfidfVectorizer(analyzer='word', ngram_range=(1,1), min_df = 1, stop_words = 'english')\n",
    "features = tf.fit_transform(original_documents)\n",
    "npm_tfidf = features.todense()\n",
    "\n",
    "# Return all document ids that that have cosine similarity with the query larger than a threshold\n",
    "def search_vec_sklearn(query, features, threshold=0.1):\n",
    "    new_features = tf.transform([query])\n",
    "    cosine_similarities = linear_kernel(new_features, features).flatten()\n",
    "    related_docs_indices, cos_sim_sorted = zip(*sorted(enumerate(cosine_similarities), key=itemgetter(1), \n",
    "                                                       reverse=True))\n",
    "    doc_ids = []\n",
    "    for i, cos_sim in enumerate(cos_sim_sorted):\n",
    "        if cos_sim < threshold:\n",
    "            break\n",
    "        doc_ids.append(related_docs_indices[i])\n",
    "    return doc_ids"
   ]
  },
  {
   "cell_type": "code",
   "execution_count": 29,
   "metadata": {},
   "outputs": [
    {
     "name": "stdout",
     "output_type": "stream",
     "text": [
      "Exciting News: \"World University Rankings 2016-2017 by subject: computer science\" No1 @ETH &amp; @EPFL on No8. Congrats https://t.co/ARSlXZoShQ\n",
      "New computer model shows how proteins are controlled \"at a distance\" https://t.co/zNjK3bZ6mO  via @EPFL_en #VDtech https://t.co/b9TglXO4KD\n",
      "An interview with Patrick Barth, a new @EPFL professor who combines protein #biophysics with computer modeling https://t.co/iJwBaEbocj\n",
      "Exposure Science Film Hackathon 2017 applications open! Come join our Scicomm-film-hacking event! #Science #scicomm https://t.co/zwtKPlh6HT\n",
      "Le mystère Soulages éblouit la science @EPFL  https://t.co/u3uNICyAdi\n",
      "@cwarwarrior @EPFL_en @EPFL Doing science at @EPFL_en is indeed pretty cool!!! Thank you for visiting!!!\n",
      "Blue Brain Nexus: an open-source tool for data-driven science https://t.co/m5yTgXf7ym #epfl\n",
      "Swiss Data Science on Twitter: \"Sign up for @EPFL_en #DataJamDays: learn more a… https://t.co/kNVILHWPGb, see more https://t.co/2wg3BbHBNq\n",
      "The registration for Exposure Science Film Hackathon 2017 is open! #scicomm #lausanne #epfl #unil https://t.co/mY5jlwsXUD\n",
      "Know someone who has promoted sound #science? Less than 2 weeks to nominate them for the #MaddoxPrize. https://t.co/POnZtf3vFT\n",
      "#sleep #neuroscience #Neurosciences #science Healthy mitochondria could stop Alzheimer's https://t.co/rioZv4axxN #epfl\n",
      "Its about Energy &amp; People ! Blue Brain Nexus: an open-source tool for data-driven science https://t.co/1kTFeYqZe6 #epfl\n",
      "Blue Brain Nexus: an open-source tool for data-driven science https://t.co/Hou5tl7RoJ  via @EPFL_en #VDtech https://t.co/eftNaVCNh6\n",
      "New report on risk of misuse of life science research https://t.co/6HaoSkJTmZ #epfl  @ScnatCH https://t.co/VmkwW0Q2Gq\n",
      "The internet is amplifying the popularity of irrational food fads. Time for some science, says @EPFL_en https://t.co/MPPlAaHJ3X\n",
      "Deep Learning on Graphs, the Christmas lecture of @EPFL_en's course A Network Tour of Data Science. https://t.co/0Ke069OMBn https://t.co/o84K23WBLm\n",
      "Today I visited my friend @wonderqueens at @EPFL_en who showed me around how unbelievably cool is this place for doing science 😍 Thanks!! https://t.co/kWDnn0UXMN\n",
      "Hey #ASHG17 trainees, looking for a postdoc in genomics? Come to Switzerland: lake, mountains, exciting science: https://t.co/JaQq6zQKdC\n",
      "Noir c'est noir? Les Outrenoirs de Pierre Soulages | CULTURE/ART/SCIENCE https://t.co/6ZTZov8ylH #epfl #epflcampus\n",
      "Blue Brain Nexus: An open-source knowledge graph for data-driven science https://t.co/XcrufBSg5a via @EPFL_en @EurekAlert @BlueBrainPjt @wake_sleep\n",
      "Data Science and Mobility Conference is co-organized by EPFL and SBB CFF FFS. 31 JANV 2018 https://t.co/PNAm80x8Tn - @EPFL https://t.co/4ldolDo6UW\n",
      "ETH Zürich und EPFL haben das Swiss Data Science Center eröffnet @ETH @EPFL_en @SDSCdatascience https://t.co/PdoHEAo9w6 https://t.co/OMaseBuL3L\n",
      "Interessanter Artikel von @MirkoBischBerg @EPFL aus Texas. #virtualreality #science #arts. Evolution der Maschinen https://t.co/dNOt4OimmV\n",
      "@MartinVetterli @EPFL setzt sich für open science ein. Wissen teilen für mehr Wirkung. https://t.co/4hMAZtA9Qa\n",
      "\"Art and science collisions\" - A presentation of art residence @CERN with Yunchul Kim and Helga Timko at @EPFL ----&gt; https://t.co/GT73OAEVOH\n",
      "Je rêve! même la science et l'innovation sont touchées par ce décret! Moyen-Age 2.0 #Trump #NoBanNoWall @EPFL https://t.co/gYcLIE4vHL @tdgch\n"
     ]
    }
   ],
   "source": [
    "ret_ids = search_vec_sklearn('computer science', features)\n",
    "for i, v in enumerate(ret_ids):\n",
    "    print(original_documents[v])"
   ]
  },
  {
   "cell_type": "code",
   "execution_count": 24,
   "metadata": {},
   "outputs": [],
   "source": [
    "queries = [\"computer science\", \"IC school\", \"information systems\"]"
   ]
  },
  {
   "cell_type": "markdown",
   "metadata": {},
   "source": [
    "## Exercise 2.1: Compute the precision and recall at k"
   ]
  },
  {
   "cell_type": "code",
   "execution_count": 5,
   "metadata": {},
   "outputs": [],
   "source": [
    "predict = search_vec('computer science')\n",
    "gt = search_vec_sklearn('computer science', features)\n",
    "gt2 = gt"
   ]
  },
  {
   "cell_type": "code",
   "execution_count": 16,
   "metadata": {},
   "outputs": [],
   "source": [
    "# predict, groundtruth, k\n",
    "def compute_recall_at_k(predict, gt, k):\n",
    "    correct_recall = set(predict[:k]).intersection(set(gt))\n",
    "    return len(correct_recall)/len(gt)"
   ]
  },
  {
   "cell_type": "code",
   "execution_count": 20,
   "metadata": {},
   "outputs": [
    {
     "data": {
      "text/plain": [
       "0.2692307692307692"
      ]
     },
     "execution_count": 20,
     "metadata": {},
     "output_type": "execute_result"
    }
   ],
   "source": [
    "# len(gt) = 26\n",
    "compute_recall_at_k(predict,gt,10)"
   ]
  },
  {
   "cell_type": "code",
   "execution_count": 21,
   "metadata": {},
   "outputs": [],
   "source": [
    "def compute_precision_at_k(predict, gt, k):\n",
    "    correct_predict = set(predict[:k]).intersection(set(gt))\n",
    "    return len(correct_recall)/k"
   ]
  },
  {
   "cell_type": "markdown",
   "metadata": {},
   "source": [
    "## Exercise 2.2: Compute the MAP score at 10"
   ]
  },
  {
   "cell_type": "code",
   "execution_count": 56,
   "metadata": {},
   "outputs": [],
   "source": [
    "def compute_map(queries, K = 10):\n",
    "    map_score = 0\n",
    "    for i, query in enumerate(queries):\n",
    "        precision_for_query = 0\n",
    "        predict = search_vec(query, K)\n",
    "        gt = search_vec_sklearn(query, features)\n",
    "        prec_ls = [0]\n",
    "        prec = 0\n",
    "        for k in range(1, K+1):\n",
    "            prec_k = compute_precision_at_k(predict, gt, k)\n",
    "            prec_k_1 = compute_precision_at_k(predict, gt, k+1)\n",
    "            \n",
    "            if prec_k >= max(prec_ls):\n",
    "                prec += max([prec_k] + prec_ls)\n",
    "                prec_ls.append(prec)\n",
    "                \n",
    "        map_score = prec/len(prec_ls)\n",
    "        print(map_score)\n",
    "    map_score = map_score / len(queries)\n",
    "    return map_score"
   ]
  },
  {
   "cell_type": "code",
   "execution_count": 72,
   "metadata": {},
   "outputs": [],
   "source": [
    "# Alternative solution\n",
    "def compute_map2(queries, K=10):\n",
    "    map_score = 0\n",
    "    for i, query in enumerate(queries):\n",
    "        predict = search_vec(query, K)\n",
    "        gt = search_vec_sklearn(query, features)\n",
    "        p_int = []\n",
    "        for k in range(K, 0, -1):\n",
    "            pk = compute_precision_at_k(predict, gt, k)\n",
    "            \n",
    "            # Compute interpolated precision\n",
    "            pint_k = max([pk] + p_int)\n",
    "            \n",
    "            # Prepend pint_k to p_int\n",
    "            p_int.insert(0, pint_k)\n",
    "            print(\"p_int: \", p_int)\n",
    "\n",
    "        # Only consider precision values when retrieving a relevant document\n",
    "        p_int_relevant = sum(p_int[i] for i, retrieved in enumerate(predict) if retrieved in gt)\n",
    "        print(\"p_int_relevant: \", p_int_relevant)\n",
    "        print(\"MAP sing: \", map_score)\n",
    "        \n",
    "        # Divide by number of relevant documents\n",
    "        map_score += p_int_relevant / len(gt)\n",
    "        print(\"gt: \", len(gt))\n",
    "        print(\"MAP cum.: \", map_score)\n",
    "    map_score = map_score / len(queries)\n",
    "    return map_score"
   ]
  },
  {
   "cell_type": "code",
   "execution_count": 71,
   "metadata": {},
   "outputs": [
    {
     "name": "stdout",
     "output_type": "stream",
     "text": [
      "p_int:  [0.7]\n",
      "p_int:  [0.7, 0.7]\n",
      "p_int:  [0.7, 0.7, 0.7]\n",
      "p_int:  [0.7, 0.7, 0.7, 0.7]\n",
      "p_int:  [0.7, 0.7, 0.7, 0.7, 0.7]\n",
      "p_int:  [0.7, 0.7, 0.7, 0.7, 0.7, 0.7]\n",
      "p_int:  [0.75, 0.7, 0.7, 0.7, 0.7, 0.7, 0.7]\n",
      "p_int:  [1.0, 0.75, 0.7, 0.7, 0.7, 0.7, 0.7, 0.7]\n",
      "p_int:  [1.0, 1.0, 0.75, 0.7, 0.7, 0.7, 0.7, 0.7, 0.7]\n",
      "p_int:  [1.0, 1.0, 1.0, 0.75, 0.7, 0.7, 0.7, 0.7, 0.7, 0.7]\n",
      "p_int_relevant:  5.800000000000001\n",
      "MAP:  0\n",
      "gt:  26\n",
      "MAP:  0.22307692307692312\n",
      "p_int:  [0.9]\n",
      "p_int:  [0.9, 0.9]\n",
      "p_int:  [0.9, 0.9, 0.9]\n",
      "p_int:  [0.9, 0.9, 0.9, 0.9]\n",
      "p_int:  [0.9, 0.9, 0.9, 0.9, 0.9]\n",
      "p_int:  [0.9, 0.9, 0.9, 0.9, 0.9, 0.9]\n",
      "p_int:  [1.0, 0.9, 0.9, 0.9, 0.9, 0.9, 0.9]\n",
      "p_int:  [1.0, 1.0, 0.9, 0.9, 0.9, 0.9, 0.9, 0.9]\n",
      "p_int:  [1.0, 1.0, 1.0, 0.9, 0.9, 0.9, 0.9, 0.9, 0.9]\n",
      "p_int:  [1.0, 1.0, 1.0, 1.0, 0.9, 0.9, 0.9, 0.9, 0.9, 0.9]\n",
      "p_int_relevant:  8.500000000000002\n",
      "MAP:  0.22307692307692312\n",
      "gt:  17\n",
      "MAP:  0.7230769230769232\n",
      "p_int:  [0.5]\n",
      "p_int:  [0.5, 0.5]\n",
      "p_int:  [0.5, 0.5, 0.5]\n",
      "p_int:  [0.5, 0.5, 0.5, 0.5]\n",
      "p_int:  [0.5, 0.5, 0.5, 0.5, 0.5]\n",
      "p_int:  [0.6, 0.5, 0.5, 0.5, 0.5, 0.5]\n",
      "p_int:  [0.6, 0.6, 0.5, 0.5, 0.5, 0.5, 0.5]\n",
      "p_int:  [0.6, 0.6, 0.6, 0.5, 0.5, 0.5, 0.5, 0.5]\n",
      "p_int:  [0.6, 0.6, 0.6, 0.6, 0.5, 0.5, 0.5, 0.5, 0.5]\n",
      "p_int:  [1.0, 0.6, 0.6, 0.6, 0.6, 0.5, 0.5, 0.5, 0.5, 0.5]\n",
      "p_int_relevant:  3.2\n",
      "MAP:  0.7230769230769232\n",
      "gt:  10\n",
      "MAP:  1.0430769230769232\n",
      "MAP avg:  0.34769230769230774\n"
     ]
    }
   ],
   "source": [
    "print(\"MAP avg: \", compute_map2(queries, K=10))"
   ]
  },
  {
   "cell_type": "code",
   "execution_count": null,
   "metadata": {},
   "outputs": [],
   "source": []
  }
 ],
 "metadata": {
  "kernelspec": {
   "display_name": "Python 3 (ipykernel)",
   "language": "python",
   "name": "python3"
  },
  "language_info": {
   "codemirror_mode": {
    "name": "ipython",
    "version": 3
   },
   "file_extension": ".py",
   "mimetype": "text/x-python",
   "name": "python",
   "nbconvert_exporter": "python",
   "pygments_lexer": "ipython3",
   "version": "3.8.12"
  }
 },
 "nbformat": 4,
 "nbformat_minor": 4
}
