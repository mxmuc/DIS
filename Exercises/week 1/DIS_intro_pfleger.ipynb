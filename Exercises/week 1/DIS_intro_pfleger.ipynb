{
 "cells": [
  {
   "cell_type": "markdown",
   "metadata": {},
   "source": [
    "# Intro Exercise: Managing Taxi Trajectories"
   ]
  },
  {
   "cell_type": "markdown",
   "metadata": {},
   "source": [
    "In this exercise, we will implement a prototypical information system for managing trajectories.\n",
    "\n",
    "We assume that we manage sets of trajectories (of taxis).\n",
    "\n",
    "For testing, we have provided a dataset with trajectory data ($Lat x Long$) of one taxi.\n",
    "\n",
    "TaxiID| Timestamp            | Latitude    | Longitude\n",
    "------|----------------------|-------------|-----------\n",
    "1     | 2008-02-02 15:36:08  |  116.51172  | 39.92123\n",
    "1     | 2008-02-02 15:46:08  |  116.51135  | 39.93883\n",
    "1     | 2008-02-02 15:56:08  |  116.51627  | 39.91034\n",
    "\n",
    "In this exercise we will first understand the provided data, then model a trajectory and perform functions on top of it. Finally, we will integrate a different data source into the existing data. \n",
    "\n",
    "Two datasets are provided: **_taxi_log.txt_** and **_taxi_data_routes.csv_**."
   ]
  },
  {
   "cell_type": "code",
   "execution_count": 1,
   "metadata": {
    "scrolled": false
   },
   "outputs": [
    {
     "data": {
      "text/html": [
       "<div>\n",
       "<style scoped>\n",
       "    .dataframe tbody tr th:only-of-type {\n",
       "        vertical-align: middle;\n",
       "    }\n",
       "\n",
       "    .dataframe tbody tr th {\n",
       "        vertical-align: top;\n",
       "    }\n",
       "\n",
       "    .dataframe thead th {\n",
       "        text-align: right;\n",
       "    }\n",
       "</style>\n",
       "<table border=\"1\" class=\"dataframe\">\n",
       "  <thead>\n",
       "    <tr style=\"text-align: right;\">\n",
       "      <th></th>\n",
       "      <th>tid</th>\n",
       "      <th>timestamp</th>\n",
       "      <th>x</th>\n",
       "      <th>y</th>\n",
       "    </tr>\n",
       "  </thead>\n",
       "  <tbody>\n",
       "    <tr>\n",
       "      <th>0</th>\n",
       "      <td>1</td>\n",
       "      <td>2008-02-02 15:36:08</td>\n",
       "      <td>116.51172</td>\n",
       "      <td>39.92123</td>\n",
       "    </tr>\n",
       "    <tr>\n",
       "      <th>1</th>\n",
       "      <td>1</td>\n",
       "      <td>2008-02-02 15:46:08</td>\n",
       "      <td>116.51135</td>\n",
       "      <td>39.93883</td>\n",
       "    </tr>\n",
       "    <tr>\n",
       "      <th>2</th>\n",
       "      <td>1</td>\n",
       "      <td>2008-02-02 15:46:08</td>\n",
       "      <td>116.51135</td>\n",
       "      <td>39.93883</td>\n",
       "    </tr>\n",
       "    <tr>\n",
       "      <th>3</th>\n",
       "      <td>1</td>\n",
       "      <td>2008-02-02 15:56:08</td>\n",
       "      <td>116.51627</td>\n",
       "      <td>39.91034</td>\n",
       "    </tr>\n",
       "    <tr>\n",
       "      <th>4</th>\n",
       "      <td>1</td>\n",
       "      <td>2008-02-02 16:06:08</td>\n",
       "      <td>116.47186</td>\n",
       "      <td>39.91248</td>\n",
       "    </tr>\n",
       "    <tr>\n",
       "      <th>...</th>\n",
       "      <td>...</td>\n",
       "      <td>...</td>\n",
       "      <td>...</td>\n",
       "      <td>...</td>\n",
       "    </tr>\n",
       "    <tr>\n",
       "      <th>583</th>\n",
       "      <td>1</td>\n",
       "      <td>2008-02-08 15:11:31</td>\n",
       "      <td>116.48347</td>\n",
       "      <td>39.91954</td>\n",
       "    </tr>\n",
       "    <tr>\n",
       "      <th>584</th>\n",
       "      <td>1</td>\n",
       "      <td>2008-02-08 15:21:31</td>\n",
       "      <td>116.50789</td>\n",
       "      <td>39.93128</td>\n",
       "    </tr>\n",
       "    <tr>\n",
       "      <th>585</th>\n",
       "      <td>1</td>\n",
       "      <td>2008-02-08 15:31:31</td>\n",
       "      <td>116.53174</td>\n",
       "      <td>39.91536</td>\n",
       "    </tr>\n",
       "    <tr>\n",
       "      <th>586</th>\n",
       "      <td>1</td>\n",
       "      <td>2008-02-08 15:41:31</td>\n",
       "      <td>116.57156</td>\n",
       "      <td>39.90263</td>\n",
       "    </tr>\n",
       "    <tr>\n",
       "      <th>587</th>\n",
       "      <td>1</td>\n",
       "      <td>2008-02-08 15:51:31</td>\n",
       "      <td>116.54723</td>\n",
       "      <td>39.90841</td>\n",
       "    </tr>\n",
       "  </tbody>\n",
       "</table>\n",
       "<p>588 rows × 4 columns</p>\n",
       "</div>"
      ],
      "text/plain": [
       "     tid            timestamp          x         y\n",
       "0      1  2008-02-02 15:36:08  116.51172  39.92123\n",
       "1      1  2008-02-02 15:46:08  116.51135  39.93883\n",
       "2      1  2008-02-02 15:46:08  116.51135  39.93883\n",
       "3      1  2008-02-02 15:56:08  116.51627  39.91034\n",
       "4      1  2008-02-02 16:06:08  116.47186  39.91248\n",
       "..   ...                  ...        ...       ...\n",
       "583    1  2008-02-08 15:11:31  116.48347  39.91954\n",
       "584    1  2008-02-08 15:21:31  116.50789  39.93128\n",
       "585    1  2008-02-08 15:31:31  116.53174  39.91536\n",
       "586    1  2008-02-08 15:41:31  116.57156  39.90263\n",
       "587    1  2008-02-08 15:51:31  116.54723  39.90841\n",
       "\n",
       "[588 rows x 4 columns]"
      ]
     },
     "execution_count": 1,
     "metadata": {},
     "output_type": "execute_result"
    }
   ],
   "source": [
    "# import libraries\n",
    "import numpy as np\n",
    "from datetime import datetime\n",
    "import pandas as pd\n",
    "\n",
    "# Import taxi data (taxi_log.txt)\n",
    "FILE = 'taxi_log.txt'\n",
    "dt = pd.read_csv(FILE, names = ['tid','timestamp','x','y'])\n",
    "dt"
   ]
  },
  {
   "cell_type": "markdown",
   "metadata": {},
   "source": [
    "### Data exploration\n",
    "\n",
    "Before starting implementing the modeling of the taxi trajectories, we will take a deeper look into the data by plotting the (lat, long) pairs. "
   ]
  },
  {
   "cell_type": "code",
   "execution_count": 2,
   "metadata": {},
   "outputs": [
    {
     "data": {
      "image/png": "[encoded data removed]",
      "text/plain": [
       "<Figure size 432x288 with 1 Axes>"
      ]
     },
     "metadata": {
      "needs_background": "light"
     },
     "output_type": "display_data"
    }
   ],
   "source": [
    "# Visualize data\n",
    "import matplotlib.pyplot as plt\n",
    "\n",
    "%matplotlib inline\n",
    "\n",
    "x_l = list()\n",
    "y_l = list()\n",
    "\n",
    "for idx, row in dt.iterrows():\n",
    "    x_l.append(row['x'])\n",
    "    y_l.append(row['y'])\n",
    "\n",
    "x = np.array(x_l)\n",
    "y = np.array(y_l)\n",
    "\n",
    "plt.scatter(x, y)\n",
    "plt.show()"
   ]
  },
  {
   "cell_type": "markdown",
   "metadata": {},
   "source": [
    "## Question 1: Filter data\n",
    "\n",
    "Filter specific rows from the trajectory data that have latitude smaller than 116.5.\n",
    "\n",
    "_HINT: Use pandas Dataframe functions to filter specific rows from the Dataframe._"
   ]
  },
  {
   "cell_type": "code",
   "execution_count": 38,
   "metadata": {},
   "outputs": [],
   "source": [
    "# --------- ADD YOUR CODE HERE -----------\n",
    "dt_filter = dt[dt['x']<116.5]\n",
    "# ----------------------------------------"
   ]
  },
  {
   "cell_type": "markdown",
   "metadata": {},
   "source": [
    "## Question 2: Create trajectory model\n",
    "\n",
    "A trajectory $tr$ is modeled as a function from the time domain $T$ to the 2-dimensional coordinate domain $Long\\:x\\:Lat$. In general, the function can be represented by enumeration or as an algorithm.\n",
    "\n",
    "Below we define a Trajectory model that contains functions for adding a point, getting the point for a given timestamp, approximating a point, and extracting the sub-trajectories/trips.\n",
    "\n",
    "Based on the following class:\n",
    "\n",
    "1. Instantiate a Trajectory object given the input dataset\n",
    "\n",
    "2. Extract the trips of the created Trajectory object"
   ]
  },
  {
   "cell_type": "code",
   "execution_count": 9,
   "metadata": {},
   "outputs": [],
   "source": [
    "# the default model\n",
    "class Trajectory:\n",
    "    def __init__(self):\n",
    "        \"\"\"\n",
    "        This class represents a trajectory.\n",
    "        \"\"\"\n",
    "        self.path = dict()  # dict[str, tuple], represent the trajectory function as a dictionary (of sample values)\n",
    "        self.timestamps = list()  # list[datetime.datetime] maintain sorted list of timestamps\n",
    "\n",
    "    def add_point(self, ts, coord):\n",
    "        \"\"\"\n",
    "        Adds a coordinate point in the Trajectory object.\n",
    "\n",
    "        :param ts: str, timestamp of the coordinates\n",
    "        :param coord: np.array, the coordinates\n",
    "        \"\"\"\n",
    "        self.path[ts] = coord\n",
    "        datetime_obj = datetime.strptime(ts, '%Y-%m-%d %H:%M:%S')\n",
    "        self.timestamps.append(datetime_obj)\n",
    "        self.timestamps.sort()\n",
    "\n",
    "    def get_location(self, ts):\n",
    "        \"\"\"\n",
    "        Returns the location for a given timestamp if it exists.\n",
    "\n",
    "        :param ts: str, the timestamp of the requested location\n",
    "        :return: np.array, of the coordinates\n",
    "        \"\"\"\n",
    "        return self.path.get(ts, None)\n",
    "\n",
    "    def get_interpolated_location(self, ts):\n",
    "        \"\"\"\n",
    "        Interpolates the positions, i.e. creating a new function in the model, based on data.\n",
    "\n",
    "        :param ts: str, the timestamp of the requested location\n",
    "        :return: np.array, of the coordinates of the interpolated location\n",
    "        \"\"\"\n",
    "        ts = datetime.strptime(ts, '%Y-%m-%d %H:%M:%S')\n",
    "\n",
    "        if self.timestamps[0] <= ts <= self.timestamps[-1]:\n",
    "            idx = bisect(self.timestamps, ts)  # get index of the input timestamp in the sorted path\n",
    "\n",
    "            # get neighbors based on the index\n",
    "            previous_ts = self.timestamps[idx - 1]\n",
    "            next_ts = self.timestamps[idx]\n",
    "\n",
    "            previous_point = self.path[previous_ts.strftime('%Y-%m-%d %H:%M:%S')]\n",
    "            next_point = self.path[next_ts.strftime('%Y-%m-%d %H:%M:%S')]\n",
    "\n",
    "            return previous_point + ((previous_point - next_point) / (next_ts - previous_ts).total_seconds()) * (\n",
    "                (ts - previous_ts).total_seconds())\n",
    "\n",
    "        return None\n",
    "\n",
    "    def extract_trips(self):\n",
    "        \"\"\"\n",
    "        Extracting trips, i.e., creating a new representation for trajectories.\n",
    "\n",
    "        :return: list of lists of np.arrays, with the [start, end] coordinates of the trips \n",
    "        \"\"\"         \n",
    "        trips = list()\n",
    "        on_trip = True\n",
    "        path = list(self.path.values())\n",
    "        start = path[0]  # get first element\n",
    "        for i in range(1, len(path)):\n",
    "            current_point = path[i]\n",
    "            previous_point = path[i-1]\n",
    "            \n",
    "            # compute euclidean distance\n",
    "            distance = np.sqrt((current_point[0] - previous_point[0]) ** 2 + (current_point[1] - previous_point[1]) ** 2)\n",
    "            \n",
    "            if distance < 0.001:\n",
    "                if on_trip:\n",
    "                    on_trip = False\n",
    "                    end = path[i]\n",
    "                    trips.append((start, end))\n",
    "            else:\n",
    "                if not on_trip:\n",
    "                    start = path[i + 1]\n",
    "                    on_trip = True\n",
    "\n",
    "        return trips"
   ]
  },
  {
   "cell_type": "code",
   "execution_count": 11,
   "metadata": {},
   "outputs": [
    {
     "name": "stdout",
     "output_type": "stream",
     "text": [
      "9\n"
     ]
    }
   ],
   "source": [
    "# transforming representation as pandas into trajectory object\n",
    "tr = Trajectory()\n",
    "for i, position in dt.iterrows():\n",
    "    # --------- ADD YOUR CODE HERE -----------\n",
    "    # don't have to give any first parameter because of self-reference\n",
    "    tr.add_point(ts=position['timestamp'], coord=(position['x'], position['y']))\n",
    "    # ----------------------------------------\n",
    "    \n",
    "# compute the number of extracted trips\n",
    "# --------- ADD YOUR CODE HERE -----------\n",
    "nr_trips = len(tr.extract_trips())\n",
    "print(nr_trips)\n",
    "# ----------------------------------------"
   ]
  },
  {
   "cell_type": "markdown",
   "metadata": {},
   "source": [
    "## Question 3.1: Implement an alternative trajectory model\n",
    "\n",
    "In this question you need to implement an alternative representation of the trajectory as a sorted list of pairs for the `add_point()` and `get_location()` methods."
   ]
  },
  {
   "cell_type": "code",
   "execution_count": 22,
   "metadata": {},
   "outputs": [],
   "source": [
    "class TrajectoryAlt:\n",
    "    def __init__(self):\n",
    "        # represent the trajectory function as a list of tuples\n",
    "        self.path = []\n",
    "\n",
    "    def add_point(self, ts, coord):\n",
    "        \"\"\"\n",
    "        Adds a coordinate point in the Trajectory object.\n",
    "\n",
    "        :param ts: str, timestamp of the coordinates\n",
    "        :param coord: np.array, the coordinates\n",
    "        \"\"\"\n",
    "        # --------- ADD YOUR CODE HERE -----------\n",
    "        self.path.append((ts, coord))\n",
    "        # sorted (iterable, reverse = False, key = optional sort key)\n",
    "        self.path = sorted(self.path, key=lambda tup: tup[0])\n",
    "        # ----------------------------------------\n",
    "        \n",
    "    def get_location(self, ts):\n",
    "        \"\"\"\n",
    "        Returns the location for a given timestamp if it exists.\n",
    "\n",
    "        :param ts: str, the timestamp of the requested location\n",
    "        :return: np.array, of the coordinates\n",
    "        \"\"\"\n",
    "        # --------- ADD YOUR CODE HERE -----------\n",
    "        for point in self.path:\n",
    "            if point[0] == ts:\n",
    "                return point[1]\n",
    "        return None\n",
    "        # ----------------------------------------\n"
   ]
  },
  {
   "cell_type": "markdown",
   "metadata": {},
   "source": [
    "## Question 3.2: Compare models\n",
    "\n",
    "Compare the two implemented trajectory models in terms of performance. Try to interpret these performance differences.\n",
    "\n",
    "_HINT: Use the time python library to compute the elapsed time:_\n",
    "\n",
    "```\n",
    "start = time.time()\n",
    "<YOUR CODE>\n",
    "end = time.time()\n",
    "print(end - start)\n",
    "```"
   ]
  },
  {
   "cell_type": "code",
   "execution_count": 24,
   "metadata": {},
   "outputs": [
    {
     "name": "stdout",
     "output_type": "stream",
     "text": [
      "Adding points duration tr:  0.04804086685180664\n",
      "Adding points duration tr_a:  0.04687929153442383\n",
      "Get location duration tr:  3.886222839355469e-05\n",
      "Get location duration tr_a:  8.821487426757812e-05\n"
     ]
    }
   ],
   "source": [
    "import time\n",
    "\n",
    "tr = Trajectory()\n",
    "tr_a = TrajectoryAlt()\n",
    "\n",
    "# TODO: Compare the performance of the models when adding points.\n",
    "# --------- ADD YOUR CODE HERE -----------\n",
    "start = time.time()\n",
    "for i, position in dt.iterrows():\n",
    "    tr.add_point(ts=position['timestamp'], coord=(position['x'], position['y']))\n",
    "end = time.time()\n",
    "print(\"Adding points duration tr: \", end - start)\n",
    "\n",
    "start = time.time()\n",
    "for i, position in dt.iterrows():\n",
    "    tr_a.add_point(ts=position['timestamp'], coord=(position['x'], position['y']))\n",
    "end = time.time()\n",
    "print(\"Adding points duration tr_a: \", end - start)\n",
    "# ----------------------------------------\n",
    "    \n",
    "# TODO: Compare the performance of the models when requesting a point.\n",
    "# --------- ADD YOUR CODE HERE -----------\n",
    "start = time.time()\n",
    "tr.get_location('2008-02-08 15:11:31')\n",
    "end = time.time()\n",
    "print(\"Get location duration tr: \", end - start)\n",
    "\n",
    "start_a = time.time()\n",
    "tr_a.get_location('2008-02-08 15:11:31')\n",
    "end_a = time.time()\n",
    "print(\"Get location duration tr_a: \", end_a - start_a)\n",
    "# ----------------------------------------\n"
   ]
  },
  {
   "cell_type": "markdown",
   "metadata": {},
   "source": [
    "## Question 4: Integrating data from a new source\n",
    "\n",
    "In this question, we will use another dataset that consists of taxi routes too. \n",
    "The goal is to integrate the new data source with the initial dataset into one consolidated dataset.\n",
    "\n",
    "The provided dataset consist of the routes/trips of one taxi (the one used in previous questions).\n",
    "\n",
    "route_id | taxi_id | passenger_count | start_point | end_point | route\n",
    "----------| ----------| ----------| ----------| ---------- | ------\n",
    "1 | 1 | 3 | (116.511, 39.921) | (116.691, 39.851) | [(116.511, 39.921), ... , (116.691, 39.851)]\n",
    "2 | 1 | 1 | (116.659, 39.885) | (116.691, 39.851) | [(116.659, 39.885), ... , (116.691, 39.851)]\n",
    "3 | 1 | 1 | (116.630, 39.904) | (116.691, 39.852) | [(116.630, 39.904), ... , (116.691, 39.852)]\n",
    "\n",
    "The goal is to create a consilidated dataset with the following columns:\n",
    "- **taxiID**: the taxi identificator\n",
    "- **timestamp**: the timestamp of a specific point\n",
    "- **latitude**: the latitude of the point\n",
    "- **longitude**: the longitude of the point\n",
    "- **routeID**: the route that the taxi was doing at that time\n",
    "- **passengers**: the number of passenger the route had\n",
    "\n",
    "_HINT: Since this data is in a different format, it needs to be mapped to the representation we have been using for the initial dataset._"
   ]
  },
  {
   "cell_type": "code",
   "execution_count": 54,
   "metadata": {},
   "outputs": [
    {
     "data": {
      "text/html": [
       "<div>\n",
       "<style scoped>\n",
       "    .dataframe tbody tr th:only-of-type {\n",
       "        vertical-align: middle;\n",
       "    }\n",
       "\n",
       "    .dataframe tbody tr th {\n",
       "        vertical-align: top;\n",
       "    }\n",
       "\n",
       "    .dataframe thead th {\n",
       "        text-align: right;\n",
       "    }\n",
       "</style>\n",
       "<table border=\"1\" class=\"dataframe\">\n",
       "  <thead>\n",
       "    <tr style=\"text-align: right;\">\n",
       "      <th></th>\n",
       "      <th>route_id</th>\n",
       "      <th>taxi_id</th>\n",
       "      <th>passenger_count</th>\n",
       "      <th>start_point</th>\n",
       "      <th>end_point</th>\n",
       "      <th>route</th>\n",
       "    </tr>\n",
       "  </thead>\n",
       "  <tbody>\n",
       "    <tr>\n",
       "      <th>0</th>\n",
       "      <td>1</td>\n",
       "      <td>1</td>\n",
       "      <td>3</td>\n",
       "      <td>[116.51172,39.92123]</td>\n",
       "      <td>[116.69167,39.85166]</td>\n",
       "      <td>[[116.51172, 39.92123], [116.51135, 39.93883],...</td>\n",
       "    </tr>\n",
       "    <tr>\n",
       "      <th>1</th>\n",
       "      <td>2</td>\n",
       "      <td>1</td>\n",
       "      <td>1</td>\n",
       "      <td>[116.65945,39.88563]</td>\n",
       "      <td>[116.6915,39.85161]</td>\n",
       "      <td>[[116.65945, 39.88563], [116.6174, 39.9057], [...</td>\n",
       "    </tr>\n",
       "    <tr>\n",
       "      <th>2</th>\n",
       "      <td>3</td>\n",
       "      <td>1</td>\n",
       "      <td>1</td>\n",
       "      <td>[116.63086,39.9044]</td>\n",
       "      <td>[116.69159,39.85204]</td>\n",
       "      <td>[[116.63086, 39.9044], [116.57792, 39.9129], [...</td>\n",
       "    </tr>\n",
       "    <tr>\n",
       "      <th>3</th>\n",
       "      <td>4</td>\n",
       "      <td>1</td>\n",
       "      <td>2</td>\n",
       "      <td>[116.64668,39.89091]</td>\n",
       "      <td>[116.69155,39.8518]</td>\n",
       "      <td>[[116.64668, 39.89091], [116.59985, 39.90881],...</td>\n",
       "    </tr>\n",
       "    <tr>\n",
       "      <th>4</th>\n",
       "      <td>5</td>\n",
       "      <td>1</td>\n",
       "      <td>1</td>\n",
       "      <td>[116.5727,39.91361]</td>\n",
       "      <td>[116.48332,39.89113]</td>\n",
       "      <td>[[116.5727, 39.91361], [116.51523, 39.91522], ...</td>\n",
       "    </tr>\n",
       "    <tr>\n",
       "      <th>5</th>\n",
       "      <td>6</td>\n",
       "      <td>1</td>\n",
       "      <td>1</td>\n",
       "      <td>[116.51238,39.91654]</td>\n",
       "      <td>[116.69158,39.85188]</td>\n",
       "      <td>[[116.51238, 39.91654], [116.51167, 39.92152],...</td>\n",
       "    </tr>\n",
       "    <tr>\n",
       "      <th>6</th>\n",
       "      <td>7</td>\n",
       "      <td>1</td>\n",
       "      <td>2</td>\n",
       "      <td>[116.59778,39.90824]</td>\n",
       "      <td>[116.69156,39.85179]</td>\n",
       "      <td>[[116.59778, 39.90824], [116.57738, 39.91294],...</td>\n",
       "    </tr>\n",
       "    <tr>\n",
       "      <th>7</th>\n",
       "      <td>8</td>\n",
       "      <td>1</td>\n",
       "      <td>2</td>\n",
       "      <td>[116.60394,39.90741]</td>\n",
       "      <td>[116.54723,39.90841]</td>\n",
       "      <td>[[116.60394, 39.90741], [116.54559, 39.91474],...</td>\n",
       "    </tr>\n",
       "  </tbody>\n",
       "</table>\n",
       "</div>"
      ],
      "text/plain": [
       "   route_id  taxi_id  passenger_count           start_point  \\\n",
       "0         1        1                3  [116.51172,39.92123]   \n",
       "1         2        1                1  [116.65945,39.88563]   \n",
       "2         3        1                1   [116.63086,39.9044]   \n",
       "3         4        1                2  [116.64668,39.89091]   \n",
       "4         5        1                1   [116.5727,39.91361]   \n",
       "5         6        1                1  [116.51238,39.91654]   \n",
       "6         7        1                2  [116.59778,39.90824]   \n",
       "7         8        1                2  [116.60394,39.90741]   \n",
       "\n",
       "              end_point                                              route  \n",
       "0  [116.69167,39.85166]  [[116.51172, 39.92123], [116.51135, 39.93883],...  \n",
       "1   [116.6915,39.85161]  [[116.65945, 39.88563], [116.6174, 39.9057], [...  \n",
       "2  [116.69159,39.85204]  [[116.63086, 39.9044], [116.57792, 39.9129], [...  \n",
       "3   [116.69155,39.8518]  [[116.64668, 39.89091], [116.59985, 39.90881],...  \n",
       "4  [116.48332,39.89113]  [[116.5727, 39.91361], [116.51523, 39.91522], ...  \n",
       "5  [116.69158,39.85188]  [[116.51238, 39.91654], [116.51167, 39.92152],...  \n",
       "6  [116.69156,39.85179]  [[116.59778, 39.90824], [116.57738, 39.91294],...  \n",
       "7  [116.54723,39.90841]  [[116.60394, 39.90741], [116.54559, 39.91474],...  "
      ]
     },
     "execution_count": 54,
     "metadata": {},
     "output_type": "execute_result"
    }
   ],
   "source": [
    "# Import additional taxi data (taxi_data_routes.csv)\n",
    "import ast\n",
    "\n",
    "FILE = 'taxi_data_routes.csv'\n",
    "dt_new = pd.read_csv(FILE, names = ['route_id','taxi_id','passenger_count',\n",
    "                                    'start_point','end_point','route'], sep='|')\n",
    "dt_new['route'] = dt_new['route'].apply(lambda s: list(ast.literal_eval(s)))\n",
    "dt_new"
   ]
  },
  {
   "cell_type": "code",
   "execution_count": 56,
   "metadata": {},
   "outputs": [
    {
     "data": {
      "text/html": [
       "<div>\n",
       "<style scoped>\n",
       "    .dataframe tbody tr th:only-of-type {\n",
       "        vertical-align: middle;\n",
       "    }\n",
       "\n",
       "    .dataframe tbody tr th {\n",
       "        vertical-align: top;\n",
       "    }\n",
       "\n",
       "    .dataframe thead th {\n",
       "        text-align: right;\n",
       "    }\n",
       "</style>\n",
       "<table border=\"1\" class=\"dataframe\">\n",
       "  <thead>\n",
       "    <tr style=\"text-align: right;\">\n",
       "      <th></th>\n",
       "      <th>route_id</th>\n",
       "      <th>taxi_id</th>\n",
       "      <th>passenger_count</th>\n",
       "      <th>latitude</th>\n",
       "      <th>longitude</th>\n",
       "      <th>timestamp</th>\n",
       "    </tr>\n",
       "  </thead>\n",
       "  <tbody>\n",
       "    <tr>\n",
       "      <th>0</th>\n",
       "      <td>1</td>\n",
       "      <td>1</td>\n",
       "      <td>3</td>\n",
       "      <td>116.51172</td>\n",
       "      <td>39.92123</td>\n",
       "      <td>2008-02-02 15:36:08</td>\n",
       "    </tr>\n",
       "    <tr>\n",
       "      <th>1</th>\n",
       "      <td>1</td>\n",
       "      <td>1</td>\n",
       "      <td>3</td>\n",
       "      <td>116.51135</td>\n",
       "      <td>39.93883</td>\n",
       "      <td>2008-02-02 15:46:08</td>\n",
       "    </tr>\n",
       "    <tr>\n",
       "      <th>2</th>\n",
       "      <td>1</td>\n",
       "      <td>1</td>\n",
       "      <td>3</td>\n",
       "      <td>116.51135</td>\n",
       "      <td>39.93883</td>\n",
       "      <td>2008-02-02 15:46:08</td>\n",
       "    </tr>\n",
       "    <tr>\n",
       "      <th>3</th>\n",
       "      <td>1</td>\n",
       "      <td>1</td>\n",
       "      <td>3</td>\n",
       "      <td>116.51627</td>\n",
       "      <td>39.91034</td>\n",
       "      <td>2008-02-02 15:56:08</td>\n",
       "    </tr>\n",
       "    <tr>\n",
       "      <th>4</th>\n",
       "      <td>1</td>\n",
       "      <td>1</td>\n",
       "      <td>3</td>\n",
       "      <td>116.47186</td>\n",
       "      <td>39.91248</td>\n",
       "      <td>2008-02-02 16:06:08</td>\n",
       "    </tr>\n",
       "    <tr>\n",
       "      <th>...</th>\n",
       "      <td>...</td>\n",
       "      <td>...</td>\n",
       "      <td>...</td>\n",
       "      <td>...</td>\n",
       "      <td>...</td>\n",
       "      <td>...</td>\n",
       "    </tr>\n",
       "    <tr>\n",
       "      <th>128</th>\n",
       "      <td>8</td>\n",
       "      <td>1</td>\n",
       "      <td>2</td>\n",
       "      <td>116.48347</td>\n",
       "      <td>39.91954</td>\n",
       "      <td>2008-02-08 15:11:31</td>\n",
       "    </tr>\n",
       "    <tr>\n",
       "      <th>129</th>\n",
       "      <td>8</td>\n",
       "      <td>1</td>\n",
       "      <td>2</td>\n",
       "      <td>116.50789</td>\n",
       "      <td>39.93128</td>\n",
       "      <td>2008-02-08 15:21:31</td>\n",
       "    </tr>\n",
       "    <tr>\n",
       "      <th>130</th>\n",
       "      <td>8</td>\n",
       "      <td>1</td>\n",
       "      <td>2</td>\n",
       "      <td>116.53174</td>\n",
       "      <td>39.91536</td>\n",
       "      <td>2008-02-08 15:31:31</td>\n",
       "    </tr>\n",
       "    <tr>\n",
       "      <th>131</th>\n",
       "      <td>8</td>\n",
       "      <td>1</td>\n",
       "      <td>2</td>\n",
       "      <td>116.57156</td>\n",
       "      <td>39.90263</td>\n",
       "      <td>2008-02-08 15:41:31</td>\n",
       "    </tr>\n",
       "    <tr>\n",
       "      <th>132</th>\n",
       "      <td>8</td>\n",
       "      <td>1</td>\n",
       "      <td>2</td>\n",
       "      <td>116.54723</td>\n",
       "      <td>39.90841</td>\n",
       "      <td>2008-02-08 15:51:31</td>\n",
       "    </tr>\n",
       "  </tbody>\n",
       "</table>\n",
       "<p>133 rows × 6 columns</p>\n",
       "</div>"
      ],
      "text/plain": [
       "     route_id  taxi_id  passenger_count   latitude  longitude  \\\n",
       "0           1        1                3  116.51172   39.92123   \n",
       "1           1        1                3  116.51135   39.93883   \n",
       "2           1        1                3  116.51135   39.93883   \n",
       "3           1        1                3  116.51627   39.91034   \n",
       "4           1        1                3  116.47186   39.91248   \n",
       "..        ...      ...              ...        ...        ...   \n",
       "128         8        1                2  116.48347   39.91954   \n",
       "129         8        1                2  116.50789   39.93128   \n",
       "130         8        1                2  116.53174   39.91536   \n",
       "131         8        1                2  116.57156   39.90263   \n",
       "132         8        1                2  116.54723   39.90841   \n",
       "\n",
       "               timestamp  \n",
       "0    2008-02-02 15:36:08  \n",
       "1    2008-02-02 15:46:08  \n",
       "2    2008-02-02 15:46:08  \n",
       "3    2008-02-02 15:56:08  \n",
       "4    2008-02-02 16:06:08  \n",
       "..                   ...  \n",
       "128  2008-02-08 15:11:31  \n",
       "129  2008-02-08 15:21:31  \n",
       "130  2008-02-08 15:31:31  \n",
       "131  2008-02-08 15:41:31  \n",
       "132  2008-02-08 15:51:31  \n",
       "\n",
       "[133 rows x 6 columns]"
      ]
     },
     "execution_count": 56,
     "metadata": {},
     "output_type": "execute_result"
    }
   ],
   "source": [
    "# TODO: Integrate the two data sources into one dataframe\n",
    "# HINT: \n",
    "# - first, expand the points of each route with the .explode pandas function\n",
    "# - second, merge the two dataframes\n",
    "# --------- ADD YOUR CODE HERE -----------\n",
    "df = (dt_new.set_index(['route_id', 'taxi_id', 'passenger_count', 'start_point', 'end_point'])\n",
    "   .explode('route')\n",
    "   .reset_index())\n",
    "df['latitude'] = df['route'].apply(lambda x:x[0])\n",
    "df['longitude'] = df['route'].apply(lambda x:x[1])\n",
    "df = df.merge(dt, how='inner', left_on=['latitude', 'longitude'], right_on=['x','y'])\n",
    "df.drop(columns=['start_point', 'end_point','route', 'tid', 'x', 'y'], inplace = True)\n",
    "df\n",
    "# ----------------------------------------"
   ]
  },
  {
   "cell_type": "markdown",
   "metadata": {},
   "source": [
    "---\n",
    "\n",
    "## Additional material from the lecture\n",
    "\n",
    "In this section, we review some key points mentioned in the lecture regarding abstract models and homomorphism.\n",
    "\n",
    "Run the following examples to get a deeper understanding of these concepts."
   ]
  },
  {
   "cell_type": "markdown",
   "metadata": {},
   "source": [
    "#### Different datatypes representing the same model"
   ]
  },
  {
   "cell_type": "code",
   "execution_count": 57,
   "metadata": {},
   "outputs": [
    {
     "data": {
      "text/plain": [
       "{0: [0, 0], 1: [1, 0]}"
      ]
     },
     "execution_count": 57,
     "metadata": {},
     "output_type": "execute_result"
    }
   ],
   "source": [
    "dict_tr = {}\n",
    "dict_tr[0] = [0,0]\n",
    "dict_tr[1] = [1,0]\n",
    "dict_tr"
   ]
  },
  {
   "cell_type": "code",
   "execution_count": 13,
   "metadata": {},
   "outputs": [
    {
     "data": {
      "text/plain": [
       "[[0, 0], [1, 0]]"
      ]
     },
     "execution_count": 13,
     "metadata": {},
     "output_type": "execute_result"
    }
   ],
   "source": [
    "list_tr = []\n",
    "list_tr.append([0,0])\n",
    "list_tr.append([1,0])\n",
    "list_tr"
   ]
  },
  {
   "cell_type": "code",
   "execution_count": 14,
   "metadata": {},
   "outputs": [
    {
     "data": {
      "text/html": [
       "<div>\n",
       "<style scoped>\n",
       "    .dataframe tbody tr th:only-of-type {\n",
       "        vertical-align: middle;\n",
       "    }\n",
       "\n",
       "    .dataframe tbody tr th {\n",
       "        vertical-align: top;\n",
       "    }\n",
       "\n",
       "    .dataframe thead th {\n",
       "        text-align: right;\n",
       "    }\n",
       "</style>\n",
       "<table border=\"1\" class=\"dataframe\">\n",
       "  <thead>\n",
       "    <tr style=\"text-align: right;\">\n",
       "      <th></th>\n",
       "      <th>0</th>\n",
       "      <th>1</th>\n",
       "    </tr>\n",
       "  </thead>\n",
       "  <tbody>\n",
       "    <tr>\n",
       "      <td>0</td>\n",
       "      <td>0</td>\n",
       "      <td>1</td>\n",
       "    </tr>\n",
       "    <tr>\n",
       "      <td>1</td>\n",
       "      <td>0</td>\n",
       "      <td>0</td>\n",
       "    </tr>\n",
       "  </tbody>\n",
       "</table>\n",
       "</div>"
      ],
      "text/plain": [
       "   0  1\n",
       "0  0  1\n",
       "1  0  0"
      ]
     },
     "execution_count": 14,
     "metadata": {},
     "output_type": "execute_result"
    }
   ],
   "source": [
    "import pandas as pd\n",
    "d = {0: [0, 0], 1: [1, 0]}\n",
    "df = pd.DataFrame(data = d)\n",
    "df"
   ]
  },
  {
   "cell_type": "markdown",
   "metadata": {},
   "source": [
    "#### Representation and Homomorphisms\n",
    "\n",
    "A representation is a relationship among mathematical structures. One example of such a relationship is the relationship among a data structure and its encoding, e.g., as a string.\n",
    "\n",
    "In general a homomorphism is a mapping $H: X -> Y$ that satisfies for functions $f$ the property $H(f(x)) = f(H(x))$\n",
    "\n",
    "We define the following Python functions for determining the length of a list of records, once directly once in the encoded format.\n",
    "\n",
    "Verify by an example that the function is preserved under the mapping to a JSON encoding and thus the encoding is a homomorphism."
   ]
  },
  {
   "cell_type": "code",
   "execution_count": 58,
   "metadata": {},
   "outputs": [],
   "source": [
    "import json\n",
    "\n",
    "result = dt.to_json(orient=\"records\")\n",
    "parsed = json.loads(result)"
   ]
  },
  {
   "cell_type": "code",
   "execution_count": 59,
   "metadata": {},
   "outputs": [],
   "source": [
    "def R(X):\n",
    "    if type(X) == 'list':\n",
    "        return json.dumps(X)\n",
    "    if type(X) == 'int':\n",
    "        return X\n",
    "\n",
    "def length(l):\n",
    "    if isinstance(l,list):\n",
    "        return len(l)\n",
    "    if isinstance(l,str):\n",
    "        return l.count(\"],\")+1"
   ]
  },
  {
   "cell_type": "code",
   "execution_count": 17,
   "metadata": {},
   "outputs": [
    {
     "data": {
      "text/plain": [
       "True"
      ]
     },
     "execution_count": 17,
     "metadata": {},
     "output_type": "execute_result"
    }
   ],
   "source": [
    "R(length(result)) == length(R(result))"
   ]
  },
  {
   "cell_type": "code",
   "execution_count": 63,
   "metadata": {},
   "outputs": [
    {
     "data": {
      "text/plain": [
       "'[{\"tid\": 1, \"timestamp\": \"2008-02-02 15:36:08\", \"x\": 116.51172, \"y\": 39.92123}, {\"tid\": 1, \"timestamp\": \"2008-02-02 15:46:08\", \"x\": 116.51135, \"y\": 39.93883}, {\"tid\": 1, \"timestamp\": \"2008-02-02 15:46:08\", \"x\": 116.51135, \"y\": 39.93883}, {\"tid\": 1, \"timestamp\": \"2008-02-02 15:56:08\", \"x\": 116.51627, \"y\": 39.91034}, {\"tid\": 1, \"timestamp\": \"2008-02-02 16:06:08\", \"x\": 116.47186, \"y\": 39.91248}, {\"tid\": 1, \"timestamp\": \"2008-02-02 16:16:08\", \"x\": 116.47217, \"y\": 39.92498}, {\"tid\": 1, \"timestamp\": \"2008-02-02 16:26:08\", \"x\": 116.47179, \"y\": 39.90718}, {\"tid\": 1, \"timestamp\": \"2008-02-02 16:36:08\", \"x\": 116.45617, \"y\": 39.90531}, {\"tid\": 1, \"timestamp\": \"2008-02-02 17:00:24\", \"x\": 116.47191, \"y\": 39.90577}, {\"tid\": 1, \"timestamp\": \"2008-02-02 17:10:24\", \"x\": 116.50661, \"y\": 39.9145}, {\"tid\": 1, \"timestamp\": \"2008-02-02 20:30:34\", \"x\": 116.49625, \"y\": 39.9146}, {\"tid\": 1, \"timestamp\": \"2008-02-02 20:40:33\", \"x\": 116.50962, \"y\": 39.91071}, {\"tid\": 1, \"timestamp\": \"2008-02-02 20:50:33\", \"x\": 116.52231, \"y\": 39.91588}, {\"tid\": 1, \"timestamp\": \"2008-02-02 20:50:33\", \"x\": 116.52231, \"y\": 39.91588}, {\"tid\": 1, \"timestamp\": \"2008-02-02 21:00:33\", \"x\": 116.56444, \"y\": 39.91445}, {\"tid\": 1, \"timestamp\": \"2008-02-02 21:10:33\", \"x\": 116.59512, \"y\": 39.90798}, {\"tid\": 1, \"timestamp\": \"2008-02-02 21:30:33\", \"x\": 116.65522, \"y\": 39.8622}, {\"tid\": 1, \"timestamp\": \"2008-02-02 21:40:33\", \"x\": 116.69164, \"y\": 39.85165}, {\"tid\": 1, \"timestamp\": \"2008-02-02 21:50:33\", \"x\": 116.69167, \"y\": 39.85166}, {\"tid\": 1, \"timestamp\": \"2008-02-02 22:10:32\", \"x\": 116.69168, \"y\": 39.85168}, {\"tid\": 1, \"timestamp\": \"2008-02-02 22:20:32\", \"x\": 116.69168, \"y\": 39.85167}, {\"tid\": 1, \"timestamp\": \"2008-02-02 22:30:32\", \"x\": 116.69167, \"y\": 39.85169}, {\"tid\": 1, \"timestamp\": \"2008-02-02 22:40:33\", \"x\": 116.69167, \"y\": 39.85172}, {\"tid\": 1, \"timestamp\": \"2008-02-02 22:50:33\", \"x\": 116.69167, \"y\": 39.85174}, {\"tid\": 1, \"timestamp\": \"2008-02-02 23:00:32\", \"x\": 116.69167, \"y\": 39.85175}, {\"tid\": 1, \"timestamp\": \"2008-02-02 23:10:32\", \"x\": 116.69167, \"y\": 39.85176}, {\"tid\": 1, \"timestamp\": \"2008-02-02 23:20:32\", \"x\": 116.69172, \"y\": 39.85208}, {\"tid\": 1, \"timestamp\": \"2008-02-02 23:20:32\", \"x\": 116.69172, \"y\": 39.85208}, {\"tid\": 1, \"timestamp\": \"2008-02-02 23:30:32\", \"x\": 116.69172, \"y\": 39.85199}, {\"tid\": 1, \"timestamp\": \"2008-02-02 23:40:32\", \"x\": 116.69171, \"y\": 39.85196}, {\"tid\": 1, \"timestamp\": \"2008-02-02 23:50:32\", \"x\": 116.69171, \"y\": 39.85182}, {\"tid\": 1, \"timestamp\": \"2008-02-03 00:00:32\", \"x\": 116.69171, \"y\": 39.85184}, {\"tid\": 1, \"timestamp\": \"2008-02-03 00:10:32\", \"x\": 116.6917, \"y\": 39.85184}, {\"tid\": 1, \"timestamp\": \"2008-02-03 00:20:32\", \"x\": 116.6917, \"y\": 39.85184}, {\"tid\": 1, \"timestamp\": \"2008-02-03 00:30:32\", \"x\": 116.69168, \"y\": 39.85146}, {\"tid\": 1, \"timestamp\": \"2008-02-03 00:40:32\", \"x\": 116.69172, \"y\": 39.85165}, {\"tid\": 1, \"timestamp\": \"2008-02-03 00:50:32\", \"x\": 116.69176, \"y\": 39.85165}, {\"tid\": 1, \"timestamp\": \"2008-02-03 01:00:32\", \"x\": 116.69168, \"y\": 39.85163}, {\"tid\": 1, \"timestamp\": \"2008-02-03 01:10:32\", \"x\": 116.69166, \"y\": 39.85159}, {\"tid\": 1, \"timestamp\": \"2008-02-03 01:40:31\", \"x\": 116.69164, \"y\": 39.85186}, {\"tid\": 1, \"timestamp\": \"2008-02-03 01:50:31\", \"x\": 116.69167, \"y\": 39.85196}, {\"tid\": 1, \"timestamp\": \"2008-02-03 02:00:32\", \"x\": 116.69167, \"y\": 39.85167}, {\"tid\": 1, \"timestamp\": \"2008-02-03 02:21:26\", \"x\": 116.69176, \"y\": 39.85183}, {\"tid\": 1, \"timestamp\": \"2008-02-03 02:30:31\", \"x\": 116.69173, \"y\": 39.85174}, {\"tid\": 1, \"timestamp\": \"2008-02-03 02:50:32\", \"x\": 116.69172, \"y\": 39.85179}, {\"tid\": 1, \"timestamp\": \"2008-02-03 03:00:32\", \"x\": 116.69171, \"y\": 39.85176}, {\"tid\": 1, \"timestamp\": \"2008-02-03 03:10:31\", \"x\": 116.6917, \"y\": 39.85176}, {\"tid\": 1, \"timestamp\": \"2008-02-03 03:20:31\", \"x\": 116.69164, \"y\": 39.85165}, {\"tid\": 1, \"timestamp\": \"2008-02-03 03:30:31\", \"x\": 116.69155, \"y\": 39.85181}, {\"tid\": 1, \"timestamp\": \"2008-02-03 03:40:31\", \"x\": 116.69158, \"y\": 39.8518}, {\"tid\": 1, \"timestamp\": \"2008-02-03 03:50:31\", \"x\": 116.69156, \"y\": 39.85141}, {\"tid\": 1, \"timestamp\": \"2008-02-03 04:00:31\", \"x\": 116.69161, \"y\": 39.85155}, {\"tid\": 1, \"timestamp\": \"2008-02-03 04:10:31\", \"x\": 116.69156, \"y\": 39.85161}, {\"tid\": 1, \"timestamp\": \"2008-02-03 04:10:31\", \"x\": 116.69156, \"y\": 39.85161}, {\"tid\": 1, \"timestamp\": \"2008-02-03 04:20:31\", \"x\": 116.6916, \"y\": 39.85156}, {\"tid\": 1, \"timestamp\": \"2008-02-03 04:30:31\", \"x\": 116.6918, \"y\": 39.85176}, {\"tid\": 1, \"timestamp\": \"2008-02-03 04:40:31\", \"x\": 116.69179, \"y\": 39.85177}, {\"tid\": 1, \"timestamp\": \"2008-02-03 04:50:31\", \"x\": 116.69176, \"y\": 39.85176}, {\"tid\": 1, \"timestamp\": \"2008-02-03 05:00:31\", \"x\": 116.69177, \"y\": 39.85175}, {\"tid\": 1, \"timestamp\": \"2008-02-03 05:10:30\", \"x\": 116.69157, \"y\": 39.85211}, {\"tid\": 1, \"timestamp\": \"2008-02-03 05:20:30\", \"x\": 116.69162, \"y\": 39.85157}, {\"tid\": 1, \"timestamp\": \"2008-02-03 05:30:30\", \"x\": 116.69162, \"y\": 39.85158}, {\"tid\": 1, \"timestamp\": \"2008-02-03 05:40:30\", \"x\": 116.69161, \"y\": 39.8516}, {\"tid\": 1, \"timestamp\": \"2008-02-03 05:50:31\", \"x\": 116.69138, \"y\": 39.85178}, {\"tid\": 1, \"timestamp\": \"2008-02-03 06:00:31\", \"x\": 116.69156, \"y\": 39.85166}, {\"tid\": 1, \"timestamp\": \"2008-02-03 06:10:30\", \"x\": 116.69129, \"y\": 39.85191}, {\"tid\": 1, \"timestamp\": \"2008-02-03 06:20:30\", \"x\": 116.69172, \"y\": 39.85176}, {\"tid\": 1, \"timestamp\": \"2008-02-03 06:40:30\", \"x\": 116.69165, \"y\": 39.85173}, {\"tid\": 1, \"timestamp\": \"2008-02-03 06:50:30\", \"x\": 116.69169, \"y\": 39.85142}, {\"tid\": 1, \"timestamp\": \"2008-02-03 07:00:30\", \"x\": 116.69164, \"y\": 39.85158}, {\"tid\": 1, \"timestamp\": \"2008-02-03 07:10:30\", \"x\": 116.69162, \"y\": 39.85163}, {\"tid\": 1, \"timestamp\": \"2008-02-03 07:20:30\", \"x\": 116.69161, \"y\": 39.85166}, {\"tid\": 1, \"timestamp\": \"2008-02-03 07:40:30\", \"x\": 116.69184, \"y\": 39.85188}, {\"tid\": 1, \"timestamp\": \"2008-02-03 07:50:30\", \"x\": 116.69165, \"y\": 39.85161}, {\"tid\": 1, \"timestamp\": \"2008-02-03 08:10:29\", \"x\": 116.6917, \"y\": 39.85163}, {\"tid\": 1, \"timestamp\": \"2008-02-03 08:30:29\", \"x\": 116.69171, \"y\": 39.85166}, {\"tid\": 1, \"timestamp\": \"2008-02-03 08:40:29\", \"x\": 116.69169, \"y\": 39.85168}, {\"tid\": 1, \"timestamp\": \"2008-02-03 08:50:30\", \"x\": 116.69169, \"y\": 39.85165}, {\"tid\": 1, \"timestamp\": \"2008-02-03 09:00:30\", \"x\": 116.69169, \"y\": 39.85163}, {\"tid\": 1, \"timestamp\": \"2008-02-03 09:10:29\", \"x\": 116.69169, \"y\": 39.85161}, {\"tid\": 1, \"timestamp\": \"2008-02-03 09:20:29\", \"x\": 116.69172, \"y\": 39.85106}, {\"tid\": 1, \"timestamp\": \"2008-02-03 09:30:29\", \"x\": 116.6917, \"y\": 39.85133}, {\"tid\": 1, \"timestamp\": \"2008-02-03 09:40:29\", \"x\": 116.69171, \"y\": 39.85165}, {\"tid\": 1, \"timestamp\": \"2008-02-03 09:50:30\", \"x\": 116.69165, \"y\": 39.85179}, {\"tid\": 1, \"timestamp\": \"2008-02-03 10:00:29\", \"x\": 116.69167, \"y\": 39.85173}, {\"tid\": 1, \"timestamp\": \"2008-02-03 10:10:29\", \"x\": 116.69156, \"y\": 39.8517}, {\"tid\": 1, \"timestamp\": \"2008-02-03 10:20:29\", \"x\": 116.69157, \"y\": 39.85171}, {\"tid\": 1, \"timestamp\": \"2008-02-03 10:30:29\", \"x\": 116.69285, \"y\": 39.85167}, {\"tid\": 1, \"timestamp\": \"2008-02-03 10:40:29\", \"x\": 116.65945, \"y\": 39.88563}, {\"tid\": 1, \"timestamp\": \"2008-02-03 10:50:29\", \"x\": 116.6174, \"y\": 39.9057}, {\"tid\": 1, \"timestamp\": \"2008-02-03 11:00:29\", \"x\": 116.57833, \"y\": 39.91297}, {\"tid\": 1, \"timestamp\": \"2008-02-03 11:10:29\", \"x\": 116.54256, \"y\": 39.91501}, {\"tid\": 1, \"timestamp\": \"2008-02-03 11:20:28\", \"x\": 116.51629, \"y\": 39.90905}, {\"tid\": 1, \"timestamp\": \"2008-02-03 11:30:29\", \"x\": 116.49705, \"y\": 39.90693}, {\"tid\": 1, \"timestamp\": \"2008-02-03 11:40:29\", \"x\": 116.43653, \"y\": 39.90566}, {\"tid\": 1, \"timestamp\": \"2008-02-03 11:50:29\", \"x\": 116.45075, \"y\": 39.87495}, {\"tid\": 1, \"timestamp\": \"2008-02-03 12:00:29\", \"x\": 116.45551, \"y\": 39.88319}, {\"tid\": 1, \"timestamp\": \"2008-02-03 18:35:14\", \"x\": 116.58425, \"y\": 39.91108}, {\"tid\": 1, \"timestamp\": \"2008-02-03 18:45:14\", \"x\": 116.62556, \"y\": 39.90534}, {\"tid\": 1, \"timestamp\": \"2008-02-03 18:45:14\", \"x\": 116.62556, \"y\": 39.90534}, {\"tid\": 1, \"timestamp\": \"2008-02-03 18:55:14\", \"x\": 116.63713, \"y\": 39.90953}, {\"tid\": 1, \"timestamp\": \"2008-02-03 19:05:14\", \"x\": 116.65749, \"y\": 39.88708}, {\"tid\": 1, \"timestamp\": \"2008-02-03 19:15:14\", \"x\": 116.69302, \"y\": 39.8516}, {\"tid\": 1, \"timestamp\": \"2008-02-03 19:25:14\", \"x\": 116.69149, \"y\": 39.85161}, {\"tid\": 1, \"timestamp\": \"2008-02-03 19:35:14\", \"x\": 116.6915, \"y\": 39.85161}, {\"tid\": 1, \"timestamp\": \"2008-02-03 19:45:14\", \"x\": 116.69152, \"y\": 39.85162}, {\"tid\": 1, \"timestamp\": \"2008-02-03 19:55:14\", \"x\": 116.69154, \"y\": 39.85162}, {\"tid\": 1, \"timestamp\": \"2008-02-03 20:05:14\", \"x\": 116.69155, \"y\": 39.85164}, {\"tid\": 1, \"timestamp\": \"2008-02-03 20:15:13\", \"x\": 116.69155, \"y\": 39.85165}, {\"tid\": 1, \"timestamp\": \"2008-02-03 20:25:13\", \"x\": 116.69155, \"y\": 39.85166}, {\"tid\": 1, \"timestamp\": \"2008-02-03 20:35:13\", \"x\": 116.69156, \"y\": 39.85166}, {\"tid\": 1, \"timestamp\": \"2008-02-03 20:45:13\", \"x\": 116.69156, \"y\": 39.85165}, {\"tid\": 1, \"timestamp\": \"2008-02-03 20:55:14\", \"x\": 116.69151, \"y\": 39.85193}, {\"tid\": 1, \"timestamp\": \"2008-02-03 21:05:14\", \"x\": 116.69159, \"y\": 39.85168}, {\"tid\": 1, \"timestamp\": \"2008-02-03 21:15:13\", \"x\": 116.69159, \"y\": 39.85162}, {\"tid\": 1, \"timestamp\": \"2008-02-03 21:15:13\", \"x\": 116.69159, \"y\": 39.85162}, {\"tid\": 1, \"timestamp\": \"2008-02-03 21:35:13\", \"x\": 116.69161, \"y\": 39.85195}, {\"tid\": 1, \"timestamp\": \"2008-02-03 21:45:13\", \"x\": 116.69164, \"y\": 39.8518}, {\"tid\": 1, \"timestamp\": \"2008-02-03 21:55:14\", \"x\": 116.69159, \"y\": 39.8517}, {\"tid\": 1, \"timestamp\": \"2008-02-03 22:05:14\", \"x\": 116.69162, \"y\": 39.85174}, {\"tid\": 1, \"timestamp\": \"2008-02-03 22:15:13\", \"x\": 116.6916, \"y\": 39.85172}, {\"tid\": 1, \"timestamp\": \"2008-02-03 22:25:13\", \"x\": 116.6916, \"y\": 39.85175}, {\"tid\": 1, \"timestamp\": \"2008-02-03 22:35:13\", \"x\": 116.69161, \"y\": 39.85178}, {\"tid\": 1, \"timestamp\": \"2008-02-03 22:45:13\", \"x\": 116.6916, \"y\": 39.85179}, {\"tid\": 1, \"timestamp\": \"2008-02-03 22:55:13\", \"x\": 116.6916, \"y\": 39.85181}, {\"tid\": 1, \"timestamp\": \"2008-02-03 23:15:12\", \"x\": 116.6916, \"y\": 39.85181}, {\"tid\": 1, \"timestamp\": \"2008-02-03 23:15:12\", \"x\": 116.6916, \"y\": 39.85181}, {\"tid\": 1, \"timestamp\": \"2008-02-03 23:25:12\", \"x\": 116.69163, \"y\": 39.85195}, {\"tid\": 1, \"timestamp\": \"2008-02-03 23:35:13\", \"x\": 116.69159, \"y\": 39.85173}, {\"tid\": 1, \"timestamp\": \"2008-02-03 23:35:13\", \"x\": 116.69159, \"y\": 39.85173}, {\"tid\": 1, \"timestamp\": \"2008-02-03 23:45:12\", \"x\": 116.69158, \"y\": 39.85175}, {\"tid\": 1, \"timestamp\": \"2008-02-03 23:55:13\", \"x\": 116.6916, \"y\": 39.85177}, {\"tid\": 1, \"timestamp\": \"2008-02-04 00:05:13\", \"x\": 116.69161, \"y\": 39.85172}, {\"tid\": 1, \"timestamp\": \"2008-02-04 00:15:12\", \"x\": 116.69163, \"y\": 39.85174}, {\"tid\": 1, \"timestamp\": \"2008-02-04 00:25:12\", \"x\": 116.69164, \"y\": 39.85173}, {\"tid\": 1, \"timestamp\": \"2008-02-04 00:35:12\", \"x\": 116.69167, \"y\": 39.8517}, {\"tid\": 1, \"timestamp\": \"2008-02-04 00:45:12\", \"x\": 116.69174, \"y\": 39.85169}, {\"tid\": 1, \"timestamp\": \"2008-02-04 00:55:13\", \"x\": 116.69162, \"y\": 39.85159}, {\"tid\": 1, \"timestamp\": \"2008-02-04 01:05:13\", \"x\": 116.69162, \"y\": 39.8516}, {\"tid\": 1, \"timestamp\": \"2008-02-04 01:15:12\", \"x\": 116.69162, \"y\": 39.85158}, {\"tid\": 1, \"timestamp\": \"2008-02-04 01:25:12\", \"x\": 116.69162, \"y\": 39.85158}, {\"tid\": 1, \"timestamp\": \"2008-02-04 01:35:12\", \"x\": 116.69162, \"y\": 39.85161}, {\"tid\": 1, \"timestamp\": \"2008-02-04 01:45:12\", \"x\": 116.69159, \"y\": 39.85188}, {\"tid\": 1, \"timestamp\": \"2008-02-04 01:55:12\", \"x\": 116.69162, \"y\": 39.85182}, {\"tid\": 1, \"timestamp\": \"2008-02-04 02:05:12\", \"x\": 116.69162, \"y\": 39.85176}, {\"tid\": 1, \"timestamp\": \"2008-02-04 02:15:12\", \"x\": 116.69169, \"y\": 39.8518}, {\"tid\": 1, \"timestamp\": \"2008-02-04 02:25:11\", \"x\": 116.69169, \"y\": 39.85172}, {\"tid\": 1, \"timestamp\": \"2008-02-04 02:35:11\", \"x\": 116.69163, \"y\": 39.85159}, {\"tid\": 1, \"timestamp\": \"2008-02-04 02:45:11\", \"x\": 116.69163, \"y\": 39.85167}, {\"tid\": 1, \"timestamp\": \"2008-02-04 02:55:12\", \"x\": 116.69164, \"y\": 39.85168}, {\"tid\": 1, \"timestamp\": \"2008-02-04 03:05:12\", \"x\": 116.69164, \"y\": 39.85169}, {\"tid\": 1, \"timestamp\": \"2008-02-04 03:15:11\", \"x\": 116.69164, \"y\": 39.85169}, {\"tid\": 1, \"timestamp\": \"2008-02-04 03:25:11\", \"x\": 116.69163, \"y\": 39.85168}, {\"tid\": 1, \"timestamp\": \"2008-02-04 03:35:11\", \"x\": 116.69163, \"y\": 39.85168}, {\"tid\": 1, \"timestamp\": \"2008-02-04 03:45:11\", \"x\": 116.69162, \"y\": 39.85169}, {\"tid\": 1, \"timestamp\": \"2008-02-04 03:55:12\", \"x\": 116.69162, \"y\": 39.85169}, {\"tid\": 1, \"timestamp\": \"2008-02-04 04:05:12\", \"x\": 116.69161, \"y\": 39.85169}, {\"tid\": 1, \"timestamp\": \"2008-02-04 04:15:11\", \"x\": 116.6916, \"y\": 39.85169}, {\"tid\": 1, \"timestamp\": \"2008-02-04 04:25:11\", \"x\": 116.6916, \"y\": 39.8517}, {\"tid\": 1, \"timestamp\": \"2008-02-04 04:35:11\", \"x\": 116.6916, \"y\": 39.8517}, {\"tid\": 1, \"timestamp\": \"2008-02-04 04:45:11\", \"x\": 116.69161, \"y\": 39.85171}, {\"tid\": 1, \"timestamp\": \"2008-02-04 04:55:11\", \"x\": 116.69159, \"y\": 39.85128}, {\"tid\": 1, \"timestamp\": \"2008-02-04 05:05:11\", \"x\": 116.69171, \"y\": 39.85171}, {\"tid\": 1, \"timestamp\": \"2008-02-04 05:15:11\", \"x\": 116.69166, \"y\": 39.85158}, {\"tid\": 1, \"timestamp\": \"2008-02-04 05:25:11\", \"x\": 116.69164, \"y\": 39.8516}, {\"tid\": 1, \"timestamp\": \"2008-02-04 05:35:11\", \"x\": 116.6916, \"y\": 39.85163}, {\"tid\": 1, \"timestamp\": \"2008-02-04 05:45:11\", \"x\": 116.69156, \"y\": 39.85164}, {\"tid\": 1, \"timestamp\": \"2008-02-04 05:55:11\", \"x\": 116.69155, \"y\": 39.85165}, {\"tid\": 1, \"timestamp\": \"2008-02-04 06:05:11\", \"x\": 116.69149, \"y\": 39.85166}, {\"tid\": 1, \"timestamp\": \"2008-02-04 06:15:10\", \"x\": 116.6915, \"y\": 39.85179}, {\"tid\": 1, \"timestamp\": \"2008-02-04 06:25:10\", \"x\": 116.6913, \"y\": 39.85196}, {\"tid\": 1, \"timestamp\": \"2008-02-04 06:35:10\", \"x\": 116.69141, \"y\": 39.85192}, {\"tid\": 1, \"timestamp\": \"2008-02-04 06:45:10\", \"x\": 116.69158, \"y\": 39.85164}, {\"tid\": 1, \"timestamp\": \"2008-02-04 06:55:11\", \"x\": 116.69158, \"y\": 39.85168}, {\"tid\": 1, \"timestamp\": \"2008-02-04 06:55:11\", \"x\": 116.69158, \"y\": 39.85168}, {\"tid\": 1, \"timestamp\": \"2008-02-04 07:05:11\", \"x\": 116.69139, \"y\": 39.8518}, {\"tid\": 1, \"timestamp\": \"2008-02-04 07:15:10\", \"x\": 116.6916, \"y\": 39.85167}, {\"tid\": 1, \"timestamp\": \"2008-02-04 07:25:10\", \"x\": 116.69162, \"y\": 39.85173}, {\"tid\": 1, \"timestamp\": \"2008-02-04 07:35:10\", \"x\": 116.69161, \"y\": 39.85174}, {\"tid\": 1, \"timestamp\": \"2008-02-04 07:45:10\", \"x\": 116.69162, \"y\": 39.85173}, {\"tid\": 1, \"timestamp\": \"2008-02-04 07:55:11\", \"x\": 116.69152, \"y\": 39.85141}, {\"tid\": 1, \"timestamp\": \"2008-02-04 08:05:11\", \"x\": 116.69165, \"y\": 39.85185}, {\"tid\": 1, \"timestamp\": \"2008-02-04 08:15:10\", \"x\": 116.69161, \"y\": 39.85176}, {\"tid\": 1, \"timestamp\": \"2008-02-04 08:25:10\", \"x\": 116.69163, \"y\": 39.85176}, {\"tid\": 1, \"timestamp\": \"2008-02-04 08:35:10\", \"x\": 116.69162, \"y\": 39.85172}, {\"tid\": 1, \"timestamp\": \"2008-02-04 08:45:10\", \"x\": 116.69163, \"y\": 39.8516}, {\"tid\": 1, \"timestamp\": \"2008-02-04 08:55:10\", \"x\": 116.69163, \"y\": 39.85156}, {\"tid\": 1, \"timestamp\": \"2008-02-04 09:05:10\", \"x\": 116.69163, \"y\": 39.85154}, {\"tid\": 1, \"timestamp\": \"2008-02-04 09:15:09\", \"x\": 116.69163, \"y\": 39.85152}, {\"tid\": 1, \"timestamp\": \"2008-02-04 09:25:09\", \"x\": 116.69159, \"y\": 39.85156}, {\"tid\": 1, \"timestamp\": \"2008-02-04 09:35:10\", \"x\": 116.69162, \"y\": 39.85166}, {\"tid\": 1, \"timestamp\": \"2008-02-04 09:45:09\", \"x\": 116.69163, \"y\": 39.85186}, {\"tid\": 1, \"timestamp\": \"2008-02-04 09:55:10\", \"x\": 116.69162, \"y\": 39.85185}, {\"tid\": 1, \"timestamp\": \"2008-02-04 10:05:10\", \"x\": 116.69162, \"y\": 39.85171}, {\"tid\": 1, \"timestamp\": \"2008-02-04 10:15:09\", \"x\": 116.67003, \"y\": 39.87709}, {\"tid\": 1, \"timestamp\": \"2008-02-04 10:25:09\", \"x\": 116.63086, \"y\": 39.9044}, {\"tid\": 1, \"timestamp\": \"2008-02-04 10:35:09\", \"x\": 116.57792, \"y\": 39.9129}, {\"tid\": 1, \"timestamp\": \"2008-02-04 10:45:09\", \"x\": 116.53787, \"y\": 39.915}, {\"tid\": 1, \"timestamp\": \"2008-02-04 10:55:09\", \"x\": 116.50839, \"y\": 39.90916}, {\"tid\": 1, \"timestamp\": \"2008-02-04 11:05:09\", \"x\": 116.5094, \"y\": 39.90679}, {\"tid\": 1, \"timestamp\": \"2008-02-04 17:28:21\", \"x\": 116.47511, \"y\": 39.91397}, {\"tid\": 1, \"timestamp\": \"2008-02-04 17:28:21\", \"x\": 116.47511, \"y\": 39.91397}, {\"tid\": 1, \"timestamp\": \"2008-02-04 17:38:21\", \"x\": 116.51175, \"y\": 39.9155}, {\"tid\": 1, \"timestamp\": \"2008-02-04 17:48:21\", \"x\": 116.51672, \"y\": 39.90887}, {\"tid\": 1, \"timestamp\": \"2008-02-04 21:08:39\", \"x\": 116.69169, \"y\": 39.85151}, {\"tid\": 1, \"timestamp\": \"2008-02-04 21:18:38\", \"x\": 116.69159, \"y\": 39.85204}, {\"tid\": 1, \"timestamp\": \"2008-02-04 21:28:37\", \"x\": 116.69158, \"y\": 39.85187}, {\"tid\": 1, \"timestamp\": \"2008-02-04 21:38:37\", \"x\": 116.69162, \"y\": 39.85178}, {\"tid\": 1, \"timestamp\": \"2008-02-04 21:48:37\", \"x\": 116.69161, \"y\": 39.85176}, {\"tid\": 1, \"timestamp\": \"2008-02-04 22:08:38\", \"x\": 116.6916, \"y\": 39.85179}, {\"tid\": 1, \"timestamp\": \"2008-02-04 22:18:38\", \"x\": 116.69158, \"y\": 39.85178}, {\"tid\": 1, \"timestamp\": \"2008-02-04 22:28:37\", \"x\": 116.69157, \"y\": 39.85179}, {\"tid\": 1, \"timestamp\": \"2008-02-04 22:38:37\", \"x\": 116.69157, \"y\": 39.85181}, {\"tid\": 1, \"timestamp\": \"2008-02-04 22:48:37\", \"x\": 116.69157, \"y\": 39.85182}, {\"tid\": 1, \"timestamp\": \"2008-02-04 22:58:37\", \"x\": 116.69157, \"y\": 39.85182}, {\"tid\": 1, \"timestamp\": \"2008-02-04 23:08:37\", \"x\": 116.69157, \"y\": 39.85182}, {\"tid\": 1, \"timestamp\": \"2008-02-04 23:18:37\", \"x\": 116.69157, \"y\": 39.85182}, {\"tid\": 1, \"timestamp\": \"2008-02-04 23:28:37\", \"x\": 116.69152, \"y\": 39.85145}, {\"tid\": 1, \"timestamp\": \"2008-02-04 23:38:37\", \"x\": 116.6915, \"y\": 39.85155}, {\"tid\": 1, \"timestamp\": \"2008-02-04 23:48:37\", \"x\": 116.69145, \"y\": 39.85184}, {\"tid\": 1, \"timestamp\": \"2008-02-05 00:08:36\", \"x\": 116.69153, \"y\": 39.85179}, {\"tid\": 1, \"timestamp\": \"2008-02-05 00:18:37\", \"x\": 116.69163, \"y\": 39.85167}, {\"tid\": 1, \"timestamp\": \"2008-02-05 00:28:37\", \"x\": 116.6916, \"y\": 39.85162}, {\"tid\": 1, \"timestamp\": \"2008-02-05 00:38:36\", \"x\": 116.69177, \"y\": 39.85202}, {\"tid\": 1, \"timestamp\": \"2008-02-05 00:48:36\", \"x\": 116.69166, \"y\": 39.85171}, {\"tid\": 1, \"timestamp\": \"2008-02-05 00:58:37\", \"x\": 116.69162, \"y\": 39.85172}, {\"tid\": 1, \"timestamp\": \"2008-02-05 01:08:37\", \"x\": 116.69161, \"y\": 39.85169}, {\"tid\": 1, \"timestamp\": \"2008-02-05 01:18:36\", \"x\": 116.69156, \"y\": 39.85125}, {\"tid\": 1, \"timestamp\": \"2008-02-05 01:28:36\", \"x\": 116.69165, \"y\": 39.85164}, {\"tid\": 1, \"timestamp\": \"2008-02-05 01:38:36\", \"x\": 116.69154, \"y\": 39.85172}, {\"tid\": 1, \"timestamp\": \"2008-02-05 01:48:36\", \"x\": 116.69157, \"y\": 39.85175}, {\"tid\": 1, \"timestamp\": \"2008-02-05 01:58:37\", \"x\": 116.69168, \"y\": 39.85171}, {\"tid\": 1, \"timestamp\": \"2008-02-05 02:38:36\", \"x\": 116.69194, \"y\": 39.85156}, {\"tid\": 1, \"timestamp\": \"2008-02-05 02:48:36\", \"x\": 116.69186, \"y\": 39.85159}, {\"tid\": 1, \"timestamp\": \"2008-02-05 02:58:36\", \"x\": 116.69182, \"y\": 39.85161}, {\"tid\": 1, \"timestamp\": \"2008-02-05 02:58:36\", \"x\": 116.69182, \"y\": 39.85161}, {\"tid\": 1, \"timestamp\": \"2008-02-05 03:08:36\", \"x\": 116.69166, \"y\": 39.85145}, {\"tid\": 1, \"timestamp\": \"2008-02-05 03:18:35\", \"x\": 116.69163, \"y\": 39.85163}, {\"tid\": 1, \"timestamp\": \"2008-02-05 03:28:35\", \"x\": 116.69163, \"y\": 39.85169}, {\"tid\": 1, \"timestamp\": \"2008-02-05 03:48:35\", \"x\": 116.69157, \"y\": 39.85161}, {\"tid\": 1, \"timestamp\": \"2008-02-05 03:58:36\", \"x\": 116.69155, \"y\": 39.85165}, {\"tid\": 1, \"timestamp\": \"2008-02-05 04:08:36\", \"x\": 116.69154, \"y\": 39.85166}, {\"tid\": 1, \"timestamp\": \"2008-02-05 04:28:35\", \"x\": 116.69153, \"y\": 39.85168}, {\"tid\": 1, \"timestamp\": \"2008-02-05 04:38:35\", \"x\": 116.69154, \"y\": 39.85171}, {\"tid\": 1, \"timestamp\": \"2008-02-05 04:48:35\", \"x\": 116.69154, \"y\": 39.85173}, {\"tid\": 1, \"timestamp\": \"2008-02-05 04:58:36\", \"x\": 116.69155, \"y\": 39.85173}, {\"tid\": 1, \"timestamp\": \"2008-02-05 05:08:36\", \"x\": 116.69153, \"y\": 39.85177}, {\"tid\": 1, \"timestamp\": \"2008-02-05 05:18:35\", \"x\": 116.69156, \"y\": 39.85165}, {\"tid\": 1, \"timestamp\": \"2008-02-05 05:28:35\", \"x\": 116.69113, \"y\": 39.85163}, {\"tid\": 1, \"timestamp\": \"2008-02-05 05:38:35\", \"x\": 116.69143, \"y\": 39.85148}, {\"tid\": 1, \"timestamp\": \"2008-02-05 05:48:35\", \"x\": 116.69168, \"y\": 39.85171}, {\"tid\": 1, \"timestamp\": \"2008-02-05 05:58:35\", \"x\": 116.69171, \"y\": 39.8517}, {\"tid\": 1, \"timestamp\": \"2008-02-05 06:08:35\", \"x\": 116.69162, \"y\": 39.8517}, {\"tid\": 1, \"timestamp\": \"2008-02-05 06:18:35\", \"x\": 116.69146, \"y\": 39.85185}, {\"tid\": 1, \"timestamp\": \"2008-02-05 06:28:35\", \"x\": 116.69156, \"y\": 39.85164}, {\"tid\": 1, \"timestamp\": \"2008-02-05 06:38:34\", \"x\": 116.69158, \"y\": 39.85182}, {\"tid\": 1, \"timestamp\": \"2008-02-05 06:48:35\", \"x\": 116.69158, \"y\": 39.85158}, {\"tid\": 1, \"timestamp\": \"2008-02-05 06:58:34\", \"x\": 116.69159, \"y\": 39.85166}, {\"tid\": 1, \"timestamp\": \"2008-02-05 07:08:35\", \"x\": 116.69157, \"y\": 39.85171}, {\"tid\": 1, \"timestamp\": \"2008-02-05 07:18:35\", \"x\": 116.69158, \"y\": 39.85173}, {\"tid\": 1, \"timestamp\": \"2008-02-05 07:28:34\", \"x\": 116.6916, \"y\": 39.85174}, {\"tid\": 1, \"timestamp\": \"2008-02-05 07:38:34\", \"x\": 116.69161, \"y\": 39.85175}, {\"tid\": 1, \"timestamp\": \"2008-02-05 07:48:34\", \"x\": 116.69162, \"y\": 39.85176}, {\"tid\": 1, \"timestamp\": \"2008-02-05 07:48:34\", \"x\": 116.69162, \"y\": 39.85176}, {\"tid\": 1, \"timestamp\": \"2008-02-05 07:58:34\", \"x\": 116.69162, \"y\": 39.85176}, {\"tid\": 1, \"timestamp\": \"2008-02-05 08:08:35\", \"x\": 116.69162, \"y\": 39.85177}, {\"tid\": 1, \"timestamp\": \"2008-02-05 08:18:35\", \"x\": 116.69162, \"y\": 39.85176}, {\"tid\": 1, \"timestamp\": \"2008-02-05 08:28:34\", \"x\": 116.69154, \"y\": 39.85166}, {\"tid\": 1, \"timestamp\": \"2008-02-05 08:38:34\", \"x\": 116.69155, \"y\": 39.85169}, {\"tid\": 1, \"timestamp\": \"2008-02-05 08:48:34\", \"x\": 116.69155, \"y\": 39.85172}, {\"tid\": 1, \"timestamp\": \"2008-02-05 08:58:34\", \"x\": 116.69156, \"y\": 39.85172}, {\"tid\": 1, \"timestamp\": \"2008-02-05 09:08:34\", \"x\": 116.69156, \"y\": 39.85169}, {\"tid\": 1, \"timestamp\": \"2008-02-05 09:18:34\", \"x\": 116.69157, \"y\": 39.85167}, {\"tid\": 1, \"timestamp\": \"2008-02-05 09:28:34\", \"x\": 116.6916, \"y\": 39.85152}, {\"tid\": 1, \"timestamp\": \"2008-02-05 09:38:34\", \"x\": 116.69159, \"y\": 39.85156}, {\"tid\": 1, \"timestamp\": \"2008-02-05 09:48:34\", \"x\": 116.69568, \"y\": 39.85251}, {\"tid\": 1, \"timestamp\": \"2008-02-05 09:58:34\", \"x\": 116.64668, \"y\": 39.89091}, {\"tid\": 1, \"timestamp\": \"2008-02-05 10:08:34\", \"x\": 116.59985, \"y\": 39.90881}, {\"tid\": 1, \"timestamp\": \"2008-02-05 10:18:34\", \"x\": 116.5531, \"y\": 39.91485}, {\"tid\": 1, \"timestamp\": \"2008-02-05 10:28:33\", \"x\": 116.49968, \"y\": 39.91468}, {\"tid\": 1, \"timestamp\": \"2008-02-05 10:38:33\", \"x\": 116.45678, \"y\": 39.91749}, {\"tid\": 1, \"timestamp\": \"2008-02-05 10:48:33\", \"x\": 116.43597, \"y\": 39.92573}, {\"tid\": 1, \"timestamp\": \"2008-02-05 10:58:33\", \"x\": 116.46352, \"y\": 39.91971}, {\"tid\": 1, \"timestamp\": \"2008-02-05 11:08:34\", \"x\": 116.46515, \"y\": 39.915}, {\"tid\": 1, \"timestamp\": \"2008-02-05 11:12:36\", \"x\": 116.45519, \"y\": 39.91569}, {\"tid\": 1, \"timestamp\": \"2008-02-05 11:18:34\", \"x\": 116.46086, \"y\": 39.9162}, {\"tid\": 1, \"timestamp\": \"2008-02-05 11:28:33\", \"x\": 116.4741, \"y\": 39.91413}, {\"tid\": 1, \"timestamp\": \"2008-02-05 11:38:33\", \"x\": 116.51525, \"y\": 39.9159}, {\"tid\": 1, \"timestamp\": \"2008-02-05 15:01:23\", \"x\": 116.49344, \"y\": 39.91441}, {\"tid\": 1, \"timestamp\": \"2008-02-05 15:11:22\", \"x\": 116.54716, \"y\": 39.92268}, {\"tid\": 1, \"timestamp\": \"2008-02-05 15:21:21\", \"x\": 116.52989, \"y\": 39.91537}, {\"tid\": 1, \"timestamp\": \"2008-02-05 15:31:21\", \"x\": 116.47556, \"y\": 39.92172}, {\"tid\": 1, \"timestamp\": \"2008-02-05 15:41:21\", \"x\": 116.45419, \"y\": 39.95203}, {\"tid\": 1, \"timestamp\": \"2008-02-05 15:51:21\", \"x\": 116.46794, \"y\": 39.94389}, {\"tid\": 1, \"timestamp\": \"2008-02-05 16:01:21\", \"x\": 116.44923, \"y\": 39.9797}, {\"tid\": 1, \"timestamp\": \"2008-02-05 16:11:21\", \"x\": 116.46175, \"y\": 39.99519}, {\"tid\": 1, \"timestamp\": \"2008-02-05 16:11:21\", \"x\": 116.46175, \"y\": 39.99519}, {\"tid\": 1, \"timestamp\": \"2008-02-05 16:21:21\", \"x\": 116.46455, \"y\": 39.96358}, {\"tid\": 1, \"timestamp\": \"2008-02-05 16:31:21\", \"x\": 116.45348, \"y\": 39.92281}, {\"tid\": 1, \"timestamp\": \"2008-02-05 16:41:21\", \"x\": 116.47822, \"y\": 39.92153}, {\"tid\": 1, \"timestamp\": \"2008-02-05 16:51:21\", \"x\": 116.46432, \"y\": 39.9139}, {\"tid\": 1, \"timestamp\": \"2008-02-05 17:01:21\", \"x\": 116.43523, \"y\": 39.92163}, {\"tid\": 1, \"timestamp\": \"2008-02-05 17:11:21\", \"x\": 116.43161, \"y\": 39.92234}, {\"tid\": 1, \"timestamp\": \"2008-02-05 17:21:21\", \"x\": 116.42843, \"y\": 39.90776}, {\"tid\": 1, \"timestamp\": \"2008-02-05 17:31:20\", \"x\": 116.4277, \"y\": 39.93528}, {\"tid\": 1, \"timestamp\": \"2008-02-05 17:41:21\", \"x\": 116.41563, \"y\": 39.9462}, {\"tid\": 1, \"timestamp\": \"2008-02-05 17:51:20\", \"x\": 116.43479, \"y\": 39.94799}, {\"tid\": 1, \"timestamp\": \"2008-02-05 18:01:21\", \"x\": 116.4546, \"y\": 39.98414}, {\"tid\": 1, \"timestamp\": \"2008-02-05 18:11:21\", \"x\": 116.46, \"y\": 39.98753}, {\"tid\": 1, \"timestamp\": \"2008-02-05 18:21:21\", \"x\": 116.48006, \"y\": 39.95789}, {\"tid\": 1, \"timestamp\": \"2008-02-05 18:31:21\", \"x\": 116.47179, \"y\": 39.92762}, {\"tid\": 1, \"timestamp\": \"2008-02-05 18:41:20\", \"x\": 116.50407, \"y\": 39.9147}, {\"tid\": 1, \"timestamp\": \"2008-02-05 18:51:20\", \"x\": 116.50337, \"y\": 39.90693}, {\"tid\": 1, \"timestamp\": \"2008-02-05 22:05:42\", \"x\": 116.69155, \"y\": 39.85164}, {\"tid\": 1, \"timestamp\": \"2008-02-05 22:15:41\", \"x\": 116.69155, \"y\": 39.8518}, {\"tid\": 1, \"timestamp\": \"2008-02-05 22:25:41\", \"x\": 116.69155, \"y\": 39.85179}, {\"tid\": 1, \"timestamp\": \"2008-02-05 22:35:41\", \"x\": 116.69156, \"y\": 39.85181}, {\"tid\": 1, \"timestamp\": \"2008-02-05 22:45:41\", \"x\": 116.69157, \"y\": 39.85183}, {\"tid\": 1, \"timestamp\": \"2008-02-05 22:55:41\", \"x\": 116.69157, \"y\": 39.85183}, {\"tid\": 1, \"timestamp\": \"2008-02-05 23:05:42\", \"x\": 116.69158, \"y\": 39.85183}, {\"tid\": 1, \"timestamp\": \"2008-02-05 23:15:42\", \"x\": 116.69159, \"y\": 39.85183}, {\"tid\": 1, \"timestamp\": \"2008-02-05 23:25:41\", \"x\": 116.69159, \"y\": 39.85183}, {\"tid\": 1, \"timestamp\": \"2008-02-05 23:35:41\", \"x\": 116.69159, \"y\": 39.85183}, {\"tid\": 1, \"timestamp\": \"2008-02-05 23:45:41\", \"x\": 116.69159, \"y\": 39.85182}, {\"tid\": 1, \"timestamp\": \"2008-02-05 23:45:41\", \"x\": 116.69159, \"y\": 39.85182}, {\"tid\": 1, \"timestamp\": \"2008-02-05 23:55:41\", \"x\": 116.69159, \"y\": 39.85182}, {\"tid\": 1, \"timestamp\": \"2008-02-06 00:05:41\", \"x\": 116.6916, \"y\": 39.85181}, {\"tid\": 1, \"timestamp\": \"2008-02-06 00:15:41\", \"x\": 116.6916, \"y\": 39.8518}, {\"tid\": 1, \"timestamp\": \"2008-02-06 00:25:41\", \"x\": 116.69185, \"y\": 39.85194}, {\"tid\": 1, \"timestamp\": \"2008-02-06 00:35:40\", \"x\": 116.69168, \"y\": 39.85189}, {\"tid\": 1, \"timestamp\": \"2008-02-06 00:45:41\", \"x\": 116.69142, \"y\": 39.85161}, {\"tid\": 1, \"timestamp\": \"2008-02-06 01:05:41\", \"x\": 116.69154, \"y\": 39.85169}, {\"tid\": 1, \"timestamp\": \"2008-02-06 01:15:41\", \"x\": 116.69155, \"y\": 39.85156}, {\"tid\": 1, \"timestamp\": \"2008-02-06 01:25:40\", \"x\": 116.69154, \"y\": 39.85179}, {\"tid\": 1, \"timestamp\": \"2008-02-06 01:35:40\", \"x\": 116.69153, \"y\": 39.85167}, {\"tid\": 1, \"timestamp\": \"2008-02-06 01:45:40\", \"x\": 116.69151, \"y\": 39.85157}, {\"tid\": 1, \"timestamp\": \"2008-02-06 02:05:40\", \"x\": 116.69173, \"y\": 39.85173}, {\"tid\": 1, \"timestamp\": \"2008-02-06 02:15:41\", \"x\": 116.69164, \"y\": 39.85178}, {\"tid\": 1, \"timestamp\": \"2008-02-06 02:25:41\", \"x\": 116.69163, \"y\": 39.85172}, {\"tid\": 1, \"timestamp\": \"2008-02-06 02:35:40\", \"x\": 116.69164, \"y\": 39.85171}, {\"tid\": 1, \"timestamp\": \"2008-02-06 02:55:40\", \"x\": 116.69167, \"y\": 39.85178}, {\"tid\": 1, \"timestamp\": \"2008-02-06 03:05:40\", \"x\": 116.69165, \"y\": 39.85165}, {\"tid\": 1, \"timestamp\": \"2008-02-06 03:15:40\", \"x\": 116.69163, \"y\": 39.85169}, {\"tid\": 1, \"timestamp\": \"2008-02-06 03:25:40\", \"x\": 116.69162, \"y\": 39.85169}, {\"tid\": 1, \"timestamp\": \"2008-02-06 03:35:40\", \"x\": 116.69162, \"y\": 39.85171}, {\"tid\": 1, \"timestamp\": \"2008-02-06 03:45:40\", \"x\": 116.69162, \"y\": 39.85172}, {\"tid\": 1, \"timestamp\": \"2008-02-06 03:55:40\", \"x\": 116.69154, \"y\": 39.8516}, {\"tid\": 1, \"timestamp\": \"2008-02-06 04:05:39\", \"x\": 116.69159, \"y\": 39.85155}, {\"tid\": 1, \"timestamp\": \"2008-02-06 04:15:40\", \"x\": 116.69156, \"y\": 39.85165}, {\"tid\": 1, \"timestamp\": \"2008-02-06 04:25:40\", \"x\": 116.69157, \"y\": 39.85172}, {\"tid\": 1, \"timestamp\": \"2008-02-06 04:35:39\", \"x\": 116.6916, \"y\": 39.85175}, {\"tid\": 1, \"timestamp\": \"2008-02-06 04:35:39\", \"x\": 116.6916, \"y\": 39.85175}, {\"tid\": 1, \"timestamp\": \"2008-02-06 04:45:39\", \"x\": 116.69161, \"y\": 39.85175}, {\"tid\": 1, \"timestamp\": \"2008-02-06 04:55:39\", \"x\": 116.69162, \"y\": 39.85175}, {\"tid\": 1, \"timestamp\": \"2008-02-06 05:05:39\", \"x\": 116.69162, \"y\": 39.85175}, {\"tid\": 1, \"timestamp\": \"2008-02-06 05:15:40\", \"x\": 116.69161, \"y\": 39.85176}, {\"tid\": 1, \"timestamp\": \"2008-02-06 05:25:40\", \"x\": 116.69155, \"y\": 39.85174}, {\"tid\": 1, \"timestamp\": \"2008-02-06 05:35:39\", \"x\": 116.69151, \"y\": 39.85175}, {\"tid\": 1, \"timestamp\": \"2008-02-06 05:45:39\", \"x\": 116.69152, \"y\": 39.85173}, {\"tid\": 1, \"timestamp\": \"2008-02-06 05:55:39\", \"x\": 116.69136, \"y\": 39.8518}, {\"tid\": 1, \"timestamp\": \"2008-02-06 06:05:39\", \"x\": 116.6915, \"y\": 39.85164}, {\"tid\": 1, \"timestamp\": \"2008-02-06 06:25:39\", \"x\": 116.69135, \"y\": 39.85206}, {\"tid\": 1, \"timestamp\": \"2008-02-06 06:35:39\", \"x\": 116.69157, \"y\": 39.85181}, {\"tid\": 1, \"timestamp\": \"2008-02-06 06:45:39\", \"x\": 116.69155, \"y\": 39.85165}, {\"tid\": 1, \"timestamp\": \"2008-02-06 06:55:39\", \"x\": 116.69155, \"y\": 39.85167}, {\"tid\": 1, \"timestamp\": \"2008-02-06 07:05:39\", \"x\": 116.69155, \"y\": 39.85168}, {\"tid\": 1, \"timestamp\": \"2008-02-06 07:15:39\", \"x\": 116.69156, \"y\": 39.85169}, {\"tid\": 1, \"timestamp\": \"2008-02-06 07:25:39\", \"x\": 116.69158, \"y\": 39.8517}, {\"tid\": 1, \"timestamp\": \"2008-02-06 07:35:38\", \"x\": 116.69159, \"y\": 39.8517}, {\"tid\": 1, \"timestamp\": \"2008-02-06 07:45:38\", \"x\": 116.69159, \"y\": 39.85171}, {\"tid\": 1, \"timestamp\": \"2008-02-06 07:55:38\", \"x\": 116.69148, \"y\": 39.85181}, {\"tid\": 1, \"timestamp\": \"2008-02-06 08:05:38\", \"x\": 116.69159, \"y\": 39.85185}, {\"tid\": 1, \"timestamp\": \"2008-02-06 08:15:39\", \"x\": 116.69159, \"y\": 39.85183}, {\"tid\": 1, \"timestamp\": \"2008-02-06 08:25:39\", \"x\": 116.69159, \"y\": 39.85181}, {\"tid\": 1, \"timestamp\": \"2008-02-06 08:35:38\", \"x\": 116.69159, \"y\": 39.85182}, {\"tid\": 1, \"timestamp\": \"2008-02-06 08:45:38\", \"x\": 116.69159, \"y\": 39.85181}, {\"tid\": 1, \"timestamp\": \"2008-02-06 08:55:38\", \"x\": 116.69159, \"y\": 39.8518}, {\"tid\": 1, \"timestamp\": \"2008-02-06 09:05:38\", \"x\": 116.69155, \"y\": 39.85173}, {\"tid\": 1, \"timestamp\": \"2008-02-06 09:25:39\", \"x\": 116.69159, \"y\": 39.8516}, {\"tid\": 1, \"timestamp\": \"2008-02-06 09:25:39\", \"x\": 116.69159, \"y\": 39.8516}, {\"tid\": 1, \"timestamp\": \"2008-02-06 09:35:38\", \"x\": 116.69159, \"y\": 39.85158}, {\"tid\": 1, \"timestamp\": \"2008-02-06 09:45:38\", \"x\": 116.69158, \"y\": 39.85183}, {\"tid\": 1, \"timestamp\": \"2008-02-06 09:55:38\", \"x\": 116.69157, \"y\": 39.8517}, {\"tid\": 1, \"timestamp\": \"2008-02-06 10:15:38\", \"x\": 116.63319, \"y\": 39.90081}, {\"tid\": 1, \"timestamp\": \"2008-02-06 10:25:38\", \"x\": 116.5727, \"y\": 39.91361}, {\"tid\": 1, \"timestamp\": \"2008-02-06 10:35:37\", \"x\": 116.51523, \"y\": 39.91522}, {\"tid\": 1, \"timestamp\": \"2008-02-06 13:57:44\", \"x\": 116.47354, \"y\": 39.98849}, {\"tid\": 1, \"timestamp\": \"2008-02-06 14:07:43\", \"x\": 116.47272, \"y\": 39.99651}, {\"tid\": 1, \"timestamp\": \"2008-02-06 14:17:43\", \"x\": 116.47284, \"y\": 39.97043}, {\"tid\": 1, \"timestamp\": \"2008-02-06 14:27:43\", \"x\": 116.48347, \"y\": 39.91296}, {\"tid\": 1, \"timestamp\": \"2008-02-06 14:37:43\", \"x\": 116.42589, \"y\": 39.85721}, {\"tid\": 1, \"timestamp\": \"2008-02-06 14:47:43\", \"x\": 116.35883, \"y\": 39.84292}, {\"tid\": 1, \"timestamp\": \"2008-02-06 14:57:43\", \"x\": 116.41487, \"y\": 39.85573}, {\"tid\": 1, \"timestamp\": \"2008-02-06 15:07:43\", \"x\": 116.46671, \"y\": 39.86658}, {\"tid\": 1, \"timestamp\": \"2008-02-06 15:17:43\", \"x\": 116.48331, \"y\": 39.89127}, {\"tid\": 1, \"timestamp\": \"2008-02-06 15:27:43\", \"x\": 116.48332, \"y\": 39.89113}, {\"tid\": 1, \"timestamp\": \"2008-02-06 15:37:43\", \"x\": 116.48335, \"y\": 39.89111}, {\"tid\": 1, \"timestamp\": \"2008-02-06 15:37:43\", \"x\": 116.48335, \"y\": 39.89111}, {\"tid\": 1, \"timestamp\": \"2008-02-06 15:47:43\", \"x\": 116.48364, \"y\": 39.89959}, {\"tid\": 1, \"timestamp\": \"2008-02-06 15:57:43\", \"x\": 116.51238, \"y\": 39.91654}, {\"tid\": 1, \"timestamp\": \"2008-02-06 19:21:22\", \"x\": 116.51167, \"y\": 39.92152}, {\"tid\": 1, \"timestamp\": \"2008-02-06 19:31:21\", \"x\": 116.51127, \"y\": 39.93078}, {\"tid\": 1, \"timestamp\": \"2008-02-06 19:41:21\", \"x\": 116.50382, \"y\": 39.90692}, {\"tid\": 1, \"timestamp\": \"2008-02-06 23:01:32\", \"x\": 116.69158, \"y\": 39.85137}, {\"tid\": 1, \"timestamp\": \"2008-02-06 23:11:32\", \"x\": 116.69158, \"y\": 39.85188}, {\"tid\": 1, \"timestamp\": \"2008-02-06 23:21:31\", \"x\": 116.69175, \"y\": 39.85119}, {\"tid\": 1, \"timestamp\": \"2008-02-06 23:31:31\", \"x\": 116.6914, \"y\": 39.85173}, {\"tid\": 1, \"timestamp\": \"2008-02-06 23:31:31\", \"x\": 116.6914, \"y\": 39.85173}, {\"tid\": 1, \"timestamp\": \"2008-02-06 23:41:31\", \"x\": 116.69173, \"y\": 39.8515}, {\"tid\": 1, \"timestamp\": \"2008-02-06 23:51:31\", \"x\": 116.69165, \"y\": 39.85158}, {\"tid\": 1, \"timestamp\": \"2008-02-07 00:01:31\", \"x\": 116.69169, \"y\": 39.85155}, {\"tid\": 1, \"timestamp\": \"2008-02-07 00:11:31\", \"x\": 116.69177, \"y\": 39.85174}, {\"tid\": 1, \"timestamp\": \"2008-02-07 00:21:32\", \"x\": 116.69172, \"y\": 39.8518}, {\"tid\": 1, \"timestamp\": \"2008-02-07 00:31:32\", \"x\": 116.69182, \"y\": 39.85192}, {\"tid\": 1, \"timestamp\": \"2008-02-07 00:41:32\", \"x\": 116.69185, \"y\": 39.85205}, {\"tid\": 1, \"timestamp\": \"2008-02-07 00:51:31\", \"x\": 116.69158, \"y\": 39.85171}, {\"tid\": 1, \"timestamp\": \"2008-02-07 01:01:31\", \"x\": 116.6916, \"y\": 39.8516}, {\"tid\": 1, \"timestamp\": \"2008-02-07 01:11:31\", \"x\": 116.69163, \"y\": 39.8516}, {\"tid\": 1, \"timestamp\": \"2008-02-07 01:21:31\", \"x\": 116.69165, \"y\": 39.85131}, {\"tid\": 1, \"timestamp\": \"2008-02-07 01:31:31\", \"x\": 116.6915, \"y\": 39.85147}, {\"tid\": 1, \"timestamp\": \"2008-02-07 01:41:31\", \"x\": 116.69174, \"y\": 39.85151}, {\"tid\": 1, \"timestamp\": \"2008-02-07 01:51:30\", \"x\": 116.69165, \"y\": 39.85141}, {\"tid\": 1, \"timestamp\": \"2008-02-07 02:11:31\", \"x\": 116.69146, \"y\": 39.85202}, {\"tid\": 1, \"timestamp\": \"2008-02-07 02:21:31\", \"x\": 116.69108, \"y\": 39.85159}, {\"tid\": 1, \"timestamp\": \"2008-02-07 02:31:31\", \"x\": 116.69137, \"y\": 39.85105}, {\"tid\": 1, \"timestamp\": \"2008-02-07 02:41:30\", \"x\": 116.6916, \"y\": 39.85157}, {\"tid\": 1, \"timestamp\": \"2008-02-07 02:51:30\", \"x\": 116.69157, \"y\": 39.85156}, {\"tid\": 1, \"timestamp\": \"2008-02-07 03:01:30\", \"x\": 116.69168, \"y\": 39.85207}, {\"tid\": 1, \"timestamp\": \"2008-02-07 03:11:30\", \"x\": 116.69153, \"y\": 39.85168}, {\"tid\": 1, \"timestamp\": \"2008-02-07 03:21:31\", \"x\": 116.69156, \"y\": 39.85152}, {\"tid\": 1, \"timestamp\": \"2008-02-07 03:31:30\", \"x\": 116.6916, \"y\": 39.85147}, {\"tid\": 1, \"timestamp\": \"2008-02-07 03:41:30\", \"x\": 116.69162, \"y\": 39.85146}, {\"tid\": 1, \"timestamp\": \"2008-02-07 03:51:30\", \"x\": 116.69175, \"y\": 39.85165}, {\"tid\": 1, \"timestamp\": \"2008-02-07 04:01:30\", \"x\": 116.69163, \"y\": 39.85167}, {\"tid\": 1, \"timestamp\": \"2008-02-07 04:21:30\", \"x\": 116.69174, \"y\": 39.85184}, {\"tid\": 1, \"timestamp\": \"2008-02-07 04:21:30\", \"x\": 116.69174, \"y\": 39.85184}, {\"tid\": 1, \"timestamp\": \"2008-02-07 04:31:31\", \"x\": 116.69163, \"y\": 39.85154}, {\"tid\": 1, \"timestamp\": \"2008-02-07 04:41:30\", \"x\": 116.69179, \"y\": 39.8516}, {\"tid\": 1, \"timestamp\": \"2008-02-07 04:51:30\", \"x\": 116.69178, \"y\": 39.85217}, {\"tid\": 1, \"timestamp\": \"2008-02-07 05:01:30\", \"x\": 116.69172, \"y\": 39.85141}, {\"tid\": 1, \"timestamp\": \"2008-02-07 05:11:29\", \"x\": 116.6916, \"y\": 39.85138}, {\"tid\": 1, \"timestamp\": \"2008-02-07 05:21:30\", \"x\": 116.69223, \"y\": 39.85128}, {\"tid\": 1, \"timestamp\": \"2008-02-07 05:31:29\", \"x\": 116.69164, \"y\": 39.85197}, {\"tid\": 1, \"timestamp\": \"2008-02-07 05:41:30\", \"x\": 116.69163, \"y\": 39.85198}, {\"tid\": 1, \"timestamp\": \"2008-02-07 06:01:30\", \"x\": 116.69172, \"y\": 39.85148}, {\"tid\": 1, \"timestamp\": \"2008-02-07 06:11:29\", \"x\": 116.69176, \"y\": 39.85144}, {\"tid\": 1, \"timestamp\": \"2008-02-07 06:21:29\", \"x\": 116.69152, \"y\": 39.85133}, {\"tid\": 1, \"timestamp\": \"2008-02-07 06:31:29\", \"x\": 116.69164, \"y\": 39.85111}, {\"tid\": 1, \"timestamp\": \"2008-02-07 06:41:29\", \"x\": 116.69164, \"y\": 39.85143}, {\"tid\": 1, \"timestamp\": \"2008-02-07 06:51:30\", \"x\": 116.69162, \"y\": 39.85136}, {\"tid\": 1, \"timestamp\": \"2008-02-07 07:01:30\", \"x\": 116.69173, \"y\": 39.85172}, {\"tid\": 1, \"timestamp\": \"2008-02-07 07:11:29\", \"x\": 116.69179, \"y\": 39.85186}, {\"tid\": 1, \"timestamp\": \"2008-02-07 07:21:29\", \"x\": 116.69164, \"y\": 39.8514}, {\"tid\": 1, \"timestamp\": \"2008-02-07 07:31:29\", \"x\": 116.69164, \"y\": 39.85141}, {\"tid\": 1, \"timestamp\": \"2008-02-07 07:41:29\", \"x\": 116.69171, \"y\": 39.85172}, {\"tid\": 1, \"timestamp\": \"2008-02-07 07:51:29\", \"x\": 116.69165, \"y\": 39.85152}, {\"tid\": 1, \"timestamp\": \"2008-02-07 08:01:29\", \"x\": 116.69164, \"y\": 39.85156}, {\"tid\": 1, \"timestamp\": \"2008-02-07 08:11:29\", \"x\": 116.69153, \"y\": 39.85192}, {\"tid\": 1, \"timestamp\": \"2008-02-07 08:21:29\", \"x\": 116.69167, \"y\": 39.85129}, {\"tid\": 1, \"timestamp\": \"2008-02-07 08:41:29\", \"x\": 116.69159, \"y\": 39.85178}, {\"tid\": 1, \"timestamp\": \"2008-02-07 08:51:29\", \"x\": 116.69159, \"y\": 39.85178}, {\"tid\": 1, \"timestamp\": \"2008-02-07 09:01:29\", \"x\": 116.69157, \"y\": 39.85273}, {\"tid\": 1, \"timestamp\": \"2008-02-07 09:11:28\", \"x\": 116.69172, \"y\": 39.85156}, {\"tid\": 1, \"timestamp\": \"2008-02-07 09:11:28\", \"x\": 116.69172, \"y\": 39.85156}, {\"tid\": 1, \"timestamp\": \"2008-02-07 09:21:28\", \"x\": 116.69147, \"y\": 39.85125}, {\"tid\": 1, \"timestamp\": \"2008-02-07 09:31:28\", \"x\": 116.69165, \"y\": 39.85177}, {\"tid\": 1, \"timestamp\": \"2008-02-07 09:41:28\", \"x\": 116.69169, \"y\": 39.85172}, {\"tid\": 1, \"timestamp\": \"2008-02-07 09:51:29\", \"x\": 116.69171, \"y\": 39.85172}, {\"tid\": 1, \"timestamp\": \"2008-02-07 10:11:28\", \"x\": 116.69164, \"y\": 39.85153}, {\"tid\": 1, \"timestamp\": \"2008-02-07 10:21:28\", \"x\": 116.69163, \"y\": 39.8516}, {\"tid\": 1, \"timestamp\": \"2008-02-07 10:31:28\", \"x\": 116.6916, \"y\": 39.85157}, {\"tid\": 1, \"timestamp\": \"2008-02-07 10:41:28\", \"x\": 116.69185, \"y\": 39.85139}, {\"tid\": 1, \"timestamp\": \"2008-02-07 10:51:28\", \"x\": 116.66018, \"y\": 39.88501}, {\"tid\": 1, \"timestamp\": \"2008-02-07 11:01:28\", \"x\": 116.59778, \"y\": 39.90824}, {\"tid\": 1, \"timestamp\": \"2008-02-07 11:05:35\", \"x\": 116.57738, \"y\": 39.91294}, {\"tid\": 1, \"timestamp\": \"2008-02-07 11:11:28\", \"x\": 116.53903, \"y\": 39.91508}, {\"tid\": 1, \"timestamp\": \"2008-02-07 14:34:35\", \"x\": 116.48572, \"y\": 39.93235}, {\"tid\": 1, \"timestamp\": \"2008-02-07 14:44:35\", \"x\": 116.51471, \"y\": 39.91661}, {\"tid\": 1, \"timestamp\": \"2008-02-07 18:04:54\", \"x\": 116.48366, \"y\": 39.94303}, {\"tid\": 1, \"timestamp\": \"2008-02-07 18:24:52\", \"x\": 116.4847, \"y\": 39.91423}, {\"tid\": 1, \"timestamp\": \"2008-02-07 18:34:52\", \"x\": 116.51731, \"y\": 39.91134}, {\"tid\": 1, \"timestamp\": \"2008-02-07 18:44:52\", \"x\": 116.56668, \"y\": 39.91402}, {\"tid\": 1, \"timestamp\": \"2008-02-07 18:54:52\", \"x\": 116.6014, \"y\": 39.90733}, {\"tid\": 1, \"timestamp\": \"2008-02-07 19:04:53\", \"x\": 116.65535, \"y\": 39.88832}, {\"tid\": 1, \"timestamp\": \"2008-02-07 19:14:53\", \"x\": 116.69152, \"y\": 39.85197}, {\"tid\": 1, \"timestamp\": \"2008-02-07 19:24:52\", \"x\": 116.69156, \"y\": 39.85179}, {\"tid\": 1, \"timestamp\": \"2008-02-07 19:34:52\", \"x\": 116.69181, \"y\": 39.85168}, {\"tid\": 1, \"timestamp\": \"2008-02-07 19:34:52\", \"x\": 116.69181, \"y\": 39.85168}, {\"tid\": 1, \"timestamp\": \"2008-02-07 19:44:52\", \"x\": 116.69179, \"y\": 39.85168}, {\"tid\": 1, \"timestamp\": \"2008-02-07 19:54:52\", \"x\": 116.69171, \"y\": 39.85199}, {\"tid\": 1, \"timestamp\": \"2008-02-07 20:04:53\", \"x\": 116.69156, \"y\": 39.85189}, {\"tid\": 1, \"timestamp\": \"2008-02-07 20:14:53\", \"x\": 116.69158, \"y\": 39.85191}, {\"tid\": 1, \"timestamp\": \"2008-02-07 20:24:52\", \"x\": 116.69158, \"y\": 39.85189}, {\"tid\": 1, \"timestamp\": \"2008-02-07 20:34:52\", \"x\": 116.6916, \"y\": 39.85171}, {\"tid\": 1, \"timestamp\": \"2008-02-07 20:44:52\", \"x\": 116.69164, \"y\": 39.85166}, {\"tid\": 1, \"timestamp\": \"2008-02-07 20:54:52\", \"x\": 116.69161, \"y\": 39.85167}, {\"tid\": 1, \"timestamp\": \"2008-02-07 21:04:52\", \"x\": 116.69159, \"y\": 39.85169}, {\"tid\": 1, \"timestamp\": \"2008-02-07 21:14:52\", \"x\": 116.69167, \"y\": 39.85149}, {\"tid\": 1, \"timestamp\": \"2008-02-07 21:24:52\", \"x\": 116.69166, \"y\": 39.85154}, {\"tid\": 1, \"timestamp\": \"2008-02-07 21:34:52\", \"x\": 116.69168, \"y\": 39.8518}, {\"tid\": 1, \"timestamp\": \"2008-02-07 21:44:52\", \"x\": 116.6917, \"y\": 39.85181}, {\"tid\": 1, \"timestamp\": \"2008-02-07 21:54:52\", \"x\": 116.69163, \"y\": 39.85181}, {\"tid\": 1, \"timestamp\": \"2008-02-07 22:04:52\", \"x\": 116.69152, \"y\": 39.85175}, {\"tid\": 1, \"timestamp\": \"2008-02-07 22:14:52\", \"x\": 116.69155, \"y\": 39.85173}, {\"tid\": 1, \"timestamp\": \"2008-02-07 22:34:52\", \"x\": 116.69136, \"y\": 39.85164}, {\"tid\": 1, \"timestamp\": \"2008-02-07 22:44:52\", \"x\": 116.69141, \"y\": 39.85171}, {\"tid\": 1, \"timestamp\": \"2008-02-07 22:54:51\", \"x\": 116.69173, \"y\": 39.8515}, {\"tid\": 1, \"timestamp\": \"2008-02-07 23:04:51\", \"x\": 116.6916, \"y\": 39.85172}, {\"tid\": 1, \"timestamp\": \"2008-02-07 23:14:51\", \"x\": 116.69156, \"y\": 39.85179}, {\"tid\": 1, \"timestamp\": \"2008-02-07 23:24:51\", \"x\": 116.69159, \"y\": 39.85184}, {\"tid\": 1, \"timestamp\": \"2008-02-07 23:34:52\", \"x\": 116.6916, \"y\": 39.85154}, {\"tid\": 1, \"timestamp\": \"2008-02-07 23:44:52\", \"x\": 116.6916, \"y\": 39.85152}, {\"tid\": 1, \"timestamp\": \"2008-02-07 23:54:51\", \"x\": 116.6916, \"y\": 39.85151}, {\"tid\": 1, \"timestamp\": \"2008-02-08 00:04:51\", \"x\": 116.6916, \"y\": 39.85156}, {\"tid\": 1, \"timestamp\": \"2008-02-08 00:14:51\", \"x\": 116.69187, \"y\": 39.85201}, {\"tid\": 1, \"timestamp\": \"2008-02-08 00:24:51\", \"x\": 116.69152, \"y\": 39.85167}, {\"tid\": 1, \"timestamp\": \"2008-02-08 00:24:51\", \"x\": 116.69152, \"y\": 39.85167}, {\"tid\": 1, \"timestamp\": \"2008-02-08 00:34:51\", \"x\": 116.69152, \"y\": 39.85161}, {\"tid\": 1, \"timestamp\": \"2008-02-08 00:44:51\", \"x\": 116.6915, \"y\": 39.85166}, {\"tid\": 1, \"timestamp\": \"2008-02-08 00:54:51\", \"x\": 116.69152, \"y\": 39.8516}, {\"tid\": 1, \"timestamp\": \"2008-02-08 01:04:51\", \"x\": 116.69152, \"y\": 39.85159}, {\"tid\": 1, \"timestamp\": \"2008-02-08 01:14:50\", \"x\": 116.69152, \"y\": 39.8516}, {\"tid\": 1, \"timestamp\": \"2008-02-08 01:24:51\", \"x\": 116.69151, \"y\": 39.85161}, {\"tid\": 1, \"timestamp\": \"2008-02-08 01:34:51\", \"x\": 116.69152, \"y\": 39.85161}, {\"tid\": 1, \"timestamp\": \"2008-02-08 01:44:51\", \"x\": 116.69151, \"y\": 39.85161}, {\"tid\": 1, \"timestamp\": \"2008-02-08 01:54:51\", \"x\": 116.69161, \"y\": 39.8518}, {\"tid\": 1, \"timestamp\": \"2008-02-08 02:24:50\", \"x\": 116.69173, \"y\": 39.85176}, {\"tid\": 1, \"timestamp\": \"2008-02-08 02:54:51\", \"x\": 116.69158, \"y\": 39.8516}, {\"tid\": 1, \"timestamp\": \"2008-02-08 02:54:51\", \"x\": 116.69158, \"y\": 39.8516}, {\"tid\": 1, \"timestamp\": \"2008-02-08 03:04:50\", \"x\": 116.69157, \"y\": 39.85177}, {\"tid\": 1, \"timestamp\": \"2008-02-08 03:14:50\", \"x\": 116.69156, \"y\": 39.8517}, {\"tid\": 1, \"timestamp\": \"2008-02-08 03:24:50\", \"x\": 116.69156, \"y\": 39.85169}, {\"tid\": 1, \"timestamp\": \"2008-02-08 03:34:51\", \"x\": 116.69155, \"y\": 39.8517}, {\"tid\": 1, \"timestamp\": \"2008-02-08 03:44:51\", \"x\": 116.69163, \"y\": 39.85136}, {\"tid\": 1, \"timestamp\": \"2008-02-08 03:54:50\", \"x\": 116.69153, \"y\": 39.85165}, {\"tid\": 1, \"timestamp\": \"2008-02-08 04:04:50\", \"x\": 116.69157, \"y\": 39.85169}, {\"tid\": 1, \"timestamp\": \"2008-02-08 04:14:50\", \"x\": 116.69177, \"y\": 39.85177}, {\"tid\": 1, \"timestamp\": \"2008-02-08 04:24:50\", \"x\": 116.69173, \"y\": 39.85179}, {\"tid\": 1, \"timestamp\": \"2008-02-08 04:34:50\", \"x\": 116.69165, \"y\": 39.8514}, {\"tid\": 1, \"timestamp\": \"2008-02-08 04:44:50\", \"x\": 116.69163, \"y\": 39.85147}, {\"tid\": 1, \"timestamp\": \"2008-02-08 04:54:49\", \"x\": 116.69169, \"y\": 39.85076}, {\"tid\": 1, \"timestamp\": \"2008-02-08 05:04:49\", \"x\": 116.69184, \"y\": 39.85102}, {\"tid\": 1, \"timestamp\": \"2008-02-08 05:14:49\", \"x\": 116.69102, \"y\": 39.85177}, {\"tid\": 1, \"timestamp\": \"2008-02-08 05:24:49\", \"x\": 116.69137, \"y\": 39.85165}, {\"tid\": 1, \"timestamp\": \"2008-02-08 05:34:50\", \"x\": 116.69145, \"y\": 39.85175}, {\"tid\": 1, \"timestamp\": \"2008-02-08 05:44:50\", \"x\": 116.69171, \"y\": 39.85187}, {\"tid\": 1, \"timestamp\": \"2008-02-08 05:54:49\", \"x\": 116.69163, \"y\": 39.85178}, {\"tid\": 1, \"timestamp\": \"2008-02-08 06:04:49\", \"x\": 116.6916, \"y\": 39.85176}, {\"tid\": 1, \"timestamp\": \"2008-02-08 06:14:49\", \"x\": 116.69137, \"y\": 39.8519}, {\"tid\": 1, \"timestamp\": \"2008-02-08 06:24:49\", \"x\": 116.69147, \"y\": 39.8517}, {\"tid\": 1, \"timestamp\": \"2008-02-08 06:34:50\", \"x\": 116.69152, \"y\": 39.85143}, {\"tid\": 1, \"timestamp\": \"2008-02-08 06:44:49\", \"x\": 116.6915, \"y\": 39.85161}, {\"tid\": 1, \"timestamp\": \"2008-02-08 06:54:49\", \"x\": 116.69152, \"y\": 39.85164}, {\"tid\": 1, \"timestamp\": \"2008-02-08 07:04:49\", \"x\": 116.69154, \"y\": 39.85165}, {\"tid\": 1, \"timestamp\": \"2008-02-08 07:14:49\", \"x\": 116.69149, \"y\": 39.85161}, {\"tid\": 1, \"timestamp\": \"2008-02-08 07:24:49\", \"x\": 116.69162, \"y\": 39.85164}, {\"tid\": 1, \"timestamp\": \"2008-02-08 07:34:49\", \"x\": 116.69159, \"y\": 39.85159}, {\"tid\": 1, \"timestamp\": \"2008-02-08 07:44:49\", \"x\": 116.69158, \"y\": 39.85165}, {\"tid\": 1, \"timestamp\": \"2008-02-08 07:44:49\", \"x\": 116.69158, \"y\": 39.85165}, {\"tid\": 1, \"timestamp\": \"2008-02-08 07:54:48\", \"x\": 116.69163, \"y\": 39.85169}, {\"tid\": 1, \"timestamp\": \"2008-02-08 08:04:48\", \"x\": 116.69154, \"y\": 39.85173}, {\"tid\": 1, \"timestamp\": \"2008-02-08 08:14:48\", \"x\": 116.69154, \"y\": 39.85175}, {\"tid\": 1, \"timestamp\": \"2008-02-08 08:24:48\", \"x\": 116.69159, \"y\": 39.85167}, {\"tid\": 1, \"timestamp\": \"2008-02-08 08:34:49\", \"x\": 116.69163, \"y\": 39.85141}, {\"tid\": 1, \"timestamp\": \"2008-02-08 08:44:49\", \"x\": 116.69162, \"y\": 39.85161}, {\"tid\": 1, \"timestamp\": \"2008-02-08 08:54:48\", \"x\": 116.6916, \"y\": 39.85161}, {\"tid\": 1, \"timestamp\": \"2008-02-08 09:04:48\", \"x\": 116.69154, \"y\": 39.85188}, {\"tid\": 1, \"timestamp\": \"2008-02-08 09:14:48\", \"x\": 116.69158, \"y\": 39.85197}, {\"tid\": 1, \"timestamp\": \"2008-02-08 09:24:48\", \"x\": 116.69158, \"y\": 39.85187}, {\"tid\": 1, \"timestamp\": \"2008-02-08 09:34:49\", \"x\": 116.69159, \"y\": 39.85183}, {\"tid\": 1, \"timestamp\": \"2008-02-08 09:44:49\", \"x\": 116.69162, \"y\": 39.85147}, {\"tid\": 1, \"timestamp\": \"2008-02-08 09:54:48\", \"x\": 116.69156, \"y\": 39.85158}, {\"tid\": 1, \"timestamp\": \"2008-02-08 10:04:48\", \"x\": 116.69155, \"y\": 39.85164}, {\"tid\": 1, \"timestamp\": \"2008-02-08 10:14:48\", \"x\": 116.69153, \"y\": 39.85165}, {\"tid\": 1, \"timestamp\": \"2008-02-08 10:24:48\", \"x\": 116.69153, \"y\": 39.85166}, {\"tid\": 1, \"timestamp\": \"2008-02-08 10:34:48\", \"x\": 116.66179, \"y\": 39.88372}, {\"tid\": 1, \"timestamp\": \"2008-02-08 10:44:48\", \"x\": 116.60394, \"y\": 39.90741}, {\"tid\": 1, \"timestamp\": \"2008-02-08 10:54:48\", \"x\": 116.54559, \"y\": 39.91474}, {\"tid\": 1, \"timestamp\": \"2008-02-08 14:21:31\", \"x\": 116.52195, \"y\": 39.916}, {\"tid\": 1, \"timestamp\": \"2008-02-08 14:31:31\", \"x\": 116.48503, \"y\": 39.91422}, {\"tid\": 1, \"timestamp\": \"2008-02-08 14:41:32\", \"x\": 116.4446, \"y\": 39.92156}, {\"tid\": 1, \"timestamp\": \"2008-02-08 14:51:32\", \"x\": 116.40047, \"y\": 39.92594}, {\"tid\": 1, \"timestamp\": \"2008-02-08 15:01:31\", \"x\": 116.44152, \"y\": 39.93236}, {\"tid\": 1, \"timestamp\": \"2008-02-08 15:11:31\", \"x\": 116.48347, \"y\": 39.91954}, {\"tid\": 1, \"timestamp\": \"2008-02-08 15:21:31\", \"x\": 116.50789, \"y\": 39.93128}, {\"tid\": 1, \"timestamp\": \"2008-02-08 15:31:31\", \"x\": 116.53174, \"y\": 39.91536}, {\"tid\": 1, \"timestamp\": \"2008-02-08 15:41:31\", \"x\": 116.57156, \"y\": 39.90263}, {\"tid\": 1, \"timestamp\": \"2008-02-08 15:51:31\", \"x\": 116.54723, \"y\": 39.90841}]'"
      ]
     },
     "execution_count": 63,
     "metadata": {},
     "output_type": "execute_result"
    }
   ],
   "source": [
    "# Helper\n",
    "json.dumps(parsed)"
   ]
  },
  {
   "cell_type": "markdown",
   "metadata": {},
   "source": [
    "#### Not every representation is an (exact) homomorphism"
   ]
  },
  {
   "cell_type": "code",
   "execution_count": 18,
   "metadata": {},
   "outputs": [],
   "source": [
    "def timesteps(s, u, n):\n",
    "    print(s)\n",
    "    if n == 0:\n",
    "        return s\n",
    "    else:\n",
    "        return timesteps(s + u, u, n-1)"
   ]
  },
  {
   "cell_type": "code",
   "execution_count": 19,
   "metadata": {},
   "outputs": [
    {
     "name": "stdout",
     "output_type": "stream",
     "text": [
      "0\n",
      "0.2\n",
      "0.4\n",
      "0.6000000000000001\n",
      "0.8\n",
      "1.0\n",
      "1.2\n",
      "1.4\n",
      "1.5999999999999999\n",
      "1.7999999999999998\n",
      "1.9999999999999998\n"
     ]
    },
    {
     "data": {
      "text/plain": [
       "1.9999999999999998"
      ]
     },
     "execution_count": 19,
     "metadata": {},
     "output_type": "execute_result"
    }
   ],
   "source": [
    "timesteps(0, 0.2, 10)"
   ]
  },
  {
   "cell_type": "markdown",
   "metadata": {},
   "source": [
    "What is going wrong. If $R: T -> float$ for mapping the time domain were an exact homomorphism, then for the function $timesteps: Start x Unit x NumberOfSteps -> End$ we would have:\n",
    "\n",
    "> $R(timesteps(s,u,n)) = timesteps(R(s),R(u),R(n))$\n",
    "\n",
    "If we take $s = 0$, $u = 0.2$ and $n = 10$, then the function $timesteps(0, 0.2, 10)$ evaluates to 2, and R(2) = 2.\n",
    "\n",
    "On the other hand, if we evaluate the above function implemented using floating point arithmetic, we obtain as result 1.9999999999999998, which is different."
   ]
  }
 ],
 "metadata": {
  "kernelspec": {
   "display_name": "Python 3 (ipykernel)",
   "language": "python",
   "name": "python3"
  },
  "language_info": {
   "codemirror_mode": {
    "name": "ipython",
    "version": 3
   },
   "file_extension": ".py",
   "mimetype": "text/x-python",
   "name": "python",
   "nbconvert_exporter": "python",
   "pygments_lexer": "ipython3",
   "version": "3.8.12"
  },
  "toc": {
   "base_numbering": 1,
   "nav_menu": {},
   "number_sections": true,
   "sideBar": true,
   "skip_h1_title": false,
   "title_cell": "Table of Contents",
   "title_sidebar": "Contents",
   "toc_cell": false,
   "toc_position": {},
   "toc_section_display": true,
   "toc_window_display": false
  }
 },
 "nbformat": 4,
 "nbformat_minor": 2
}
